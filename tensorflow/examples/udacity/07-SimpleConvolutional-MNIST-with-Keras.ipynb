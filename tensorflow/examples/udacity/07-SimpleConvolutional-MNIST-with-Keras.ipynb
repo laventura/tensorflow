{
 "cells": [
  {
   "cell_type": "markdown",
   "metadata": {},
   "source": [
    "# MNIST - with Simple Convolutional Network using Keras"
   ]
  },
  {
   "cell_type": "code",
   "execution_count": 1,
   "metadata": {
    "collapsed": false
   },
   "outputs": [
    {
     "name": "stderr",
     "output_type": "stream",
     "text": [
      "Using Theano backend.\n"
     ]
    },
    {
     "name": "stdout",
     "output_type": "stream",
     "text": [
      "theano\n",
      "th\n"
     ]
    }
   ],
   "source": [
    "# ensure Theano backend\n",
    "from keras import backend as K\n",
    "\n",
    "print(K.backend())   # want Theano\n",
    "print(K.image_dim_ordering()) # want Theano"
   ]
  },
  {
   "cell_type": "code",
   "execution_count": 2,
   "metadata": {
    "collapsed": false
   },
   "outputs": [],
   "source": [
    "from keras.datasets import mnist"
   ]
  },
  {
   "cell_type": "code",
   "execution_count": 3,
   "metadata": {
    "collapsed": false
   },
   "outputs": [
    {
     "data": {
      "text/plain": [
       "(60000, 10000, 28, 28)"
      ]
     },
     "execution_count": 3,
     "metadata": {},
     "output_type": "execute_result"
    }
   ],
   "source": [
    "# split Train and Test\n",
    "(X_train, y_train), (X_test, y_test) = mnist.load_data()\n",
    "\n",
    "n_train, height, width = X_train.shape\n",
    "n_test, _, _ = X_test.shape\n",
    "\n",
    "n_train, n_test, height, width"
   ]
  },
  {
   "cell_type": "code",
   "execution_count": 4,
   "metadata": {
    "collapsed": true
   },
   "outputs": [],
   "source": [
    "### 60,000 28x28 gray images to Train; 10,000 images to Test\n",
    "\n",
    "from keras.utils.np_utils import to_categorical\n",
    "\n",
    "# Preprocess the data \n",
    "X_train = X_train.reshape(n_train, 1, height, width).astype('float32')\n",
    "X_test  = X_test.reshape (n_test,  1, height, width).astype('float32')\n",
    "\n",
    "# normalize from [0,255] to [0,1]\n",
    "X_train /= 255\n",
    "X_test  /= 255\n",
    "\n",
    "#numbers 0-9, so 10 classes\n",
    "N_CLASSES = 10\n",
    "\n",
    "y_train = to_categorical(y_train, N_CLASSES)\n",
    "y_test  = to_categorical(y_test, N_CLASSES)"
   ]
  },
  {
   "cell_type": "code",
   "execution_count": 5,
   "metadata": {
    "collapsed": true
   },
   "outputs": [],
   "source": [
    "## Let's define the model\n",
    "from keras.models import Sequential\n",
    "model = Sequential()"
   ]
  },
  {
   "cell_type": "code",
   "execution_count": 6,
   "metadata": {
    "collapsed": true
   },
   "outputs": [],
   "source": [
    "## Some params for the model\n",
    "# num conv filters\n",
    "N_FILTERS = 32\n",
    "\n",
    "# filter size: n_conv x n_conv\n",
    "N_CONV = 3\n",
    "\n",
    "# Pooling window size (i.e. n_pool x n_pool)\n",
    "N_POOL = 2"
   ]
  },
  {
   "cell_type": "code",
   "execution_count": 7,
   "metadata": {
    "collapsed": false
   },
   "outputs": [],
   "source": [
    "from keras.layers import Activation\n",
    "from keras.layers.convolutional import Convolution2D, MaxPooling2D\n",
    "\n",
    "# Note -- we are using Theano-style image dimension\n",
    "\n",
    "# define the model\n",
    "# 1st conv layer\n",
    "model.add(Convolution2D(\n",
    "        N_FILTERS, N_CONV, N_CONV,\n",
    "        \n",
    "        # apply filter only to full image, i.e. no spill over\n",
    "        # called narrow conv\n",
    "        border_mode='valid',\n",
    "        \n",
    "        # 28x28 image with 1 channel\n",
    "        input_shape=(1, height, width)\n",
    "    ))\n",
    "model.add(Activation('relu'))\n",
    "\n",
    "# 2nd layer\n",
    "model.add(Convolution2D(N_FILTERS, N_CONV, N_CONV))\n",
    "model.add(Activation('relu'))\n",
    "\n",
    "# Pooling layer - to summarize the features extracted so far\n",
    "model.add(MaxPooling2D(pool_size=(N_POOL, N_POOL)))"
   ]
  },
  {
   "cell_type": "code",
   "execution_count": 8,
   "metadata": {
    "collapsed": false
   },
   "outputs": [],
   "source": [
    "# Now add Dropout and Dense and Softmax (output) layers\n",
    "\n",
    "from keras.layers import Dropout, Flatten, Dense\n",
    "\n",
    "model.add(Dropout(0.25))\n",
    "\n",
    "# Flatten the data for 1D layers\n",
    "model.add(Flatten())\n",
    "\n",
    "# Dense (n_outputs)\n",
    "model.add(Dense(128))\n",
    "model.add(Activation('relu'))\n",
    "model.add(Dropout(0.5))\n",
    "\n",
    "# Softmax output - gives us the probabilities for each class\n",
    "model.add(Dense(N_CLASSES))\n",
    "model.add(Activation('softmax'))"
   ]
  },
  {
   "cell_type": "code",
   "execution_count": 10,
   "metadata": {
    "collapsed": false
   },
   "outputs": [],
   "source": [
    "# Compile the model - specify the loss function, optimizer, and metrics\n",
    "model.compile(loss='categorical_crossentropy',\n",
    "             optimizer='adam',\n",
    "             metrics=['accuracy'])"
   ]
  },
  {
   "cell_type": "code",
   "execution_count": 13,
   "metadata": {
    "collapsed": false
   },
   "outputs": [
    {
     "name": "stdout",
     "output_type": "stream",
     "text": [
      "Train on 60000 samples, validate on 10000 samples\n",
      "Epoch 1/10\n",
      "60000/60000 [==============================] - 95s - loss: 0.2728 - acc: 0.9160 - val_loss: 0.0589 - val_acc: 0.9810\n",
      "Epoch 2/10\n",
      "60000/60000 [==============================] - 97s - loss: 0.0968 - acc: 0.9707 - val_loss: 0.0403 - val_acc: 0.9866\n",
      "Epoch 3/10\n",
      "60000/60000 [==============================] - 98s - loss: 0.0725 - acc: 0.9778 - val_loss: 0.0379 - val_acc: 0.9870\n",
      "Epoch 4/10\n",
      "60000/60000 [==============================] - 104s - loss: 0.0589 - acc: 0.9817 - val_loss: 0.0355 - val_acc: 0.9883\n",
      "Epoch 5/10\n",
      "60000/60000 [==============================] - 103s - loss: 0.0500 - acc: 0.9845 - val_loss: 0.0319 - val_acc: 0.9897\n",
      "Epoch 6/10\n",
      "60000/60000 [==============================] - 101s - loss: 0.0448 - acc: 0.9860 - val_loss: 0.0303 - val_acc: 0.9899\n",
      "Epoch 7/10\n",
      "60000/60000 [==============================] - 102s - loss: 0.0390 - acc: 0.9875 - val_loss: 0.0284 - val_acc: 0.9904\n",
      "Epoch 8/10\n",
      "60000/60000 [==============================] - 101s - loss: 0.0346 - acc: 0.9890 - val_loss: 0.0294 - val_acc: 0.9907\n",
      "Epoch 9/10\n",
      "60000/60000 [==============================] - 97s - loss: 0.0330 - acc: 0.9897 - val_loss: 0.0311 - val_acc: 0.9909\n",
      "Epoch 10/10\n",
      "60000/60000 [==============================] - 98s - loss: 0.0302 - acc: 0.9902 - val_loss: 0.0264 - val_acc: 0.9918\n"
     ]
    },
    {
     "data": {
      "text/plain": [
       "<keras.callbacks.History at 0x10e7e5d30>"
      ]
     },
     "execution_count": 13,
     "metadata": {},
     "output_type": "execute_result"
    }
   ],
   "source": [
    "# Run time\n",
    "BATCH_SIZE = 128\n",
    "\n",
    "# epochs to run. 10 is enough for this\n",
    "NB_EPOCHS = 10\n",
    "\n",
    "# Run the model\n",
    "model.fit(X_train,\n",
    "         y_train,\n",
    "         batch_size=BATCH_SIZE,\n",
    "         nb_epoch=NB_EPOCHS,\n",
    "         validation_data=(X_test, y_test))"
   ]
  },
  {
   "cell_type": "code",
   "execution_count": null,
   "metadata": {
    "collapsed": true
   },
   "outputs": [],
   "source": []
  }
 ],
 "metadata": {
  "kernelspec": {
   "display_name": "Python 3",
   "language": "python",
   "name": "python3"
  },
  "language_info": {
   "codemirror_mode": {
    "name": "ipython",
    "version": 3
   },
   "file_extension": ".py",
   "mimetype": "text/x-python",
   "name": "python",
   "nbconvert_exporter": "python",
   "pygments_lexer": "ipython3",
   "version": "3.5.2"
  }
 },
 "nbformat": 4,
 "nbformat_minor": 0
}
