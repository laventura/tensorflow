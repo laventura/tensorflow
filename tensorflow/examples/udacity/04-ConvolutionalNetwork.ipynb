{
 "cells": [
  {
   "cell_type": "markdown",
   "metadata": {},
   "source": [
    "# Deep Learning\n",
    "## Assignment 4\n",
    "Previously in `2_fullyconnected.ipynb` and `3_regularization.ipynb`, we trained fully connected networks to classify notMNIST characters.\n",
    "\n",
    "The goal of this assignment is make the neural network convolutional."
   ]
  },
  {
   "cell_type": "markdown",
   "metadata": {},
   "source": [
    "### Note for GPU on Mac\n",
    "Set the following in your shell to prevent 'out of memory' errors from TensorFlow, prior to running jupyter notebook:\n",
    "\n",
    "`export CUDA_VISIBLE_DEVICES=1`"
   ]
  },
  {
   "cell_type": "code",
   "execution_count": 1,
   "metadata": {
    "collapsed": true
   },
   "outputs": [],
   "source": [
    "# These are all the modules we'll be using later. Make sure you can import them\n",
    "# before proceeding further.\n",
    "from __future__ import print_function\n",
    "import numpy as np\n",
    "import tensorflow as tf\n",
    "from six.moves import cPickle as pickle\n",
    "from six.moves import range\n",
    "\n",
    "from matplotlib.pyplot import specgram\n",
    "import matplotlib.pyplot as plt\n",
    "%matplotlib inline\n",
    "plt.style.use('ggplot')"
   ]
  },
  {
   "cell_type": "code",
   "execution_count": 2,
   "metadata": {
    "collapsed": false
   },
   "outputs": [
    {
     "name": "stdout",
     "output_type": "stream",
     "text": [
      "Training set (200000, 28, 28) (200000,)\n",
      "Validation set (10000, 28, 28) (10000,)\n",
      "Test set (10000, 28, 28) (10000,)\n"
     ]
    }
   ],
   "source": [
    "pickle_file = 'notMNIST.pickle'\n",
    "\n",
    "with open(pickle_file, 'rb') as f:\n",
    "  save = pickle.load(f)\n",
    "  train_dataset = save['train_dataset']\n",
    "  train_labels = save['train_labels']\n",
    "  valid_dataset = save['valid_dataset']\n",
    "  valid_labels = save['valid_labels']\n",
    "  test_dataset = save['test_dataset']\n",
    "  test_labels = save['test_labels']\n",
    "  del save  # hint to help gc free up memory\n",
    "  print('Training set', train_dataset.shape, train_labels.shape)\n",
    "  print('Validation set', valid_dataset.shape, valid_labels.shape)\n",
    "  print('Test set', test_dataset.shape, test_labels.shape)"
   ]
  },
  {
   "cell_type": "markdown",
   "metadata": {},
   "source": [
    "Reformat into a TensorFlow-friendly shape:\n",
    "\n",
    "- convolutions need the image data formatted as a cube (`Width by Height by #Channels`)\n",
    "- labels as float 1-hot encodings."
   ]
  },
  {
   "cell_type": "code",
   "execution_count": 3,
   "metadata": {
    "collapsed": false
   },
   "outputs": [
    {
     "name": "stdout",
     "output_type": "stream",
     "text": [
      "Training set (200000, 28, 28, 1) (200000, 10)\n",
      "Validation set (10000, 28, 28, 1) (10000, 10)\n",
      "Test set (10000, 28, 28, 1) (10000, 10)\n"
     ]
    }
   ],
   "source": [
    "IM_SIZE = image_size = 28\n",
    "L = NUM_LABELS = 10\n",
    "C = NUM_CHANNELS = 1 # grayscale = C\n",
    "\n",
    "import numpy as np\n",
    "\n",
    "def reformat(dataset, labels):\n",
    "  dataset = dataset.reshape(\n",
    "    (-1, IM_SIZE, IM_SIZE, NUM_CHANNELS)).astype(np.float32)   # [-1, 28, 28, C]\n",
    "  labels = (np.arange(NUM_LABELS) == labels[:,None]).astype(np.float32)\n",
    "  return dataset, labels\n",
    "\n",
    "train_dataset, train_labels = reformat(train_dataset, train_labels)\n",
    "valid_dataset, valid_labels = reformat(valid_dataset, valid_labels)\n",
    "test_dataset, test_labels   = reformat(test_dataset, test_labels)\n",
    "\n",
    "print('Training set',   train_dataset.shape, train_labels.shape)\n",
    "print('Validation set', valid_dataset.shape, valid_labels.shape)\n",
    "print('Test set',       test_dataset.shape,  test_labels.shape)"
   ]
  },
  {
   "cell_type": "code",
   "execution_count": 4,
   "metadata": {
    "collapsed": true
   },
   "outputs": [],
   "source": [
    "def get_accuracy(predictions, labels):\n",
    "  \"\"\" Define our accuracy measure. Return accuracy % \"\"\"\n",
    "  return (100.0 * np.sum(np.argmax(predictions, 1) == np.argmax(labels, 1))\n",
    "          / predictions.shape[0])"
   ]
  },
  {
   "cell_type": "markdown",
   "metadata": {},
   "source": [
    "Let's build a small network with two convolutional layers, followed by one fully connected layer. Convolutional networks are more expensive computationally, so we'll limit its depth and number of fully connected nodes."
   ]
  },
  {
   "cell_type": "code",
   "execution_count": 19,
   "metadata": {
    "collapsed": false
   },
   "outputs": [],
   "source": [
    "BATCH_SIZE = 20\n",
    "PATCH_SIZE = K = 3    # Kernel size\n",
    "DEPTH = D = 16        # D\n",
    "\n",
    "\n",
    "# 3 conv layers with their channel counts, and a \n",
    "# last Fully Connected layer (that last fc layer has 10 softmax nodes)\n",
    "P = 4  # 1st hidden layer\n",
    "Q = 8  # 2nd hidden\n",
    "R = 16  # 3rd hidden\n",
    "S = 64  # Last Fully Connected layer\n",
    "\n",
    "L = NUM_LABELS # Output labels  \n",
    "\n",
    "graph = tf.Graph()\n",
    "with graph.as_default():\n",
    "    # Input data: images: Batch size x Width x Height x Channels\n",
    "    X = tf.placeholder(tf.float32, [None,IM_SIZE,IM_SIZE,C]) # Batch size x 28 x 28 x Channels\n",
    "    # Correct labels here: [Batch size, Num Labels]\n",
    "    Y_ = tf.placeholder(tf.float32, [None, L]) \n",
    "    # learning rate\n",
    "    lr = tf.placeholder(tf.float32, name='lr')\n",
    "    # pkeep = % of probs to keep  (0.5 to 1.0)\n",
    "    pkeep = tf.placeholder(tf.float32, name='pkeep')\n",
    "    \n",
    "    ## Weights \n",
    "    # W1:  5x5 Kernel, C (=1) input channel, P output channels\n",
    "    W1 = tf.Variable(tf.truncated_normal([K,K,C,P], stddev=0.1))\n",
    "    B1 = tf.Variable(tf.ones([P])/10)\n",
    "    \n",
    "    W2 = tf.Variable(tf.truncated_normal([K,K,P,Q], stddev=0.1))\n",
    "    B2 = tf.Variable(tf.ones([Q])/10)\n",
    "    \n",
    "    W3 = tf.Variable(tf.truncated_normal([K,K,Q,R], stddev=0.1))\n",
    "    B3 = tf.Variable(tf.ones([R])/10)\n",
    "    \n",
    "\n",
    "    ## Model calculations - 1\n",
    "    # XX = tf.reshape(X, [-1, I*I])   # flatten into 784 = Image Size (28) x Image Size (28)\n",
    "    \n",
    "    s1 = 1  # stride is 1;  output 28x28\n",
    "    Y1 = tf.nn.relu(tf.nn.conv2d(X,  W1, strides=[1,s1,s1,1], padding='SAME') + B1)\n",
    "    s2 = 2  # stride is 2; output 14x14\n",
    "    Y2 = tf.nn.relu(tf.nn.conv2d(Y1, W2, strides=[1,s2,s2,1], padding='SAME') + B2)\n",
    "    s3 = 2  # stride is 2; output 7x7\n",
    "    Y3 = tf.nn.relu(tf.nn.conv2d(Y2, W3, strides=[1,s3,s3,1], padding='SAME') + B3)\n",
    "    \n",
    "    # reshape the output from Y3 to fully connected layer; should be 7x7xR\n",
    "    ''' Note that dim of image is reduced by strides (s1,s2,s3) after the conv layers\n",
    "        Therefore, the dim of image to fc layer is [IM_SIZE//(s1*s2*s3), IM_SIZE//(s1*s2*s3)]\n",
    "    '''\n",
    "    fc1_in_dim = IM_SIZE//(s1*s2*s3) * IM_SIZE//(s1*s2*s3)   # should be 7*7\n",
    "    YY = tf.reshape(Y3, shape=[-1, fc1_in_dim * R])          # 7*7*R\n",
    "    \n",
    "    # for fully connected (FC) RELU layer , depth=S\n",
    "    W4 = tf.Variable(tf.truncated_normal([fc1_in_dim * R,S], stddev=0.1))  # should be [7*7*R, S]\n",
    "    B4 = tf.Variable(tf.ones([S])/10)\n",
    "    # last FC Softmax layer, depth=L(=10)\n",
    "    W5 = tf.Variable(tf.truncated_normal([S, L], stddev=0.1))  # last \n",
    "    B5 = tf.Variable(tf.ones([L])/10)  # L = num_labels\n",
    "    \n",
    "    Y4  = tf.nn.relu(tf.matmul(YY, W4) + B4)\n",
    "    Y4d = tf.nn.dropout(Y4, pkeep)   # Dropout\n",
    "    \n",
    "    # Outputs... get logits, then softmax on it\n",
    "    Ylogits = tf.matmul(Y4d, W5) + B5\n",
    "    Y = tf.nn.softmax(Ylogits)\n",
    "    \n",
    "    # Loss Function cross-entropy (= -sum(Y_i * log(Yi)) ), normalised for batches of BATCH_SIZE images\n",
    "    # TensorFlow provides the softmax_cross_entropy_with_logits function to avoid numerical stability\n",
    "    # problems with log(0) which is NaN\n",
    "    \n",
    "    cross_entropy = tf.nn.softmax_cross_entropy_with_logits(Ylogits, Y_)\n",
    "    cross_entropy = tf.reduce_mean(cross_entropy)*BATCH_SIZE\n",
    "    \n",
    "    # accuracy of the trained model, between 0 (worst) and 1 (best)\n",
    "    correct_prediction = tf.equal(tf.argmax(Y, 1), tf.argmax(Y_, 1))\n",
    "    accuracy = tf.reduce_mean(tf.cast(correct_prediction, tf.float32))\n",
    "    \n",
    "    # training step, the learning rate is a placeholder\n",
    "    train_step = tf.train.AdamOptimizer(lr).minimize(cross_entropy)\n",
    "    \n",
    "    ## Init the session\n",
    "    init = tf.initialize_all_variables()\n",
    "    "
   ]
  },
  {
   "cell_type": "code",
   "execution_count": 20,
   "metadata": {
    "collapsed": false
   },
   "outputs": [
    {
     "name": "stdout",
     "output_type": "stream",
     "text": [
      "Initialized\n"
     ]
    }
   ],
   "source": [
    "# Inititalize...\n",
    "session = tf.Session(graph=graph)\n",
    "\n",
    "session.run(init)\n",
    "print(\"Initialized\")\n"
   ]
  },
  {
   "cell_type": "code",
   "execution_count": 21,
   "metadata": {
    "collapsed": true
   },
   "outputs": [],
   "source": [
    "# For storing results - for charting\n",
    "\n",
    "steps_train = []   # X1 \n",
    "train_losses = []\n",
    "train_acc = []\n",
    "\n",
    "steps_test = []    # X2\n",
    "valid_acc = []\n",
    "test_acc  = []\n",
    "valid_losses = []\n",
    "test_losses  = []\n",
    "\n",
    "# Define a Training Step func to run the model\n",
    "def training_step(step, update_train_data, update_test_data):\n",
    "    \"\"\" Invoke this function in a loop: Runs one training step \n",
    "        Runs one training step and outputs stats on Train or Test data periodically\n",
    "        \n",
    "        step: iteration number\n",
    "        update_test_data:  Bool to indicate when to update Test stats for output\n",
    "        update_train_data: Bool to indicate when to update Train stats for output\n",
    "    \"\"\"\n",
    "\n",
    "    # learning rate decay\n",
    "    max_learning_rate = 0.003\n",
    "    min_learning_rate = 0.0001\n",
    "    decay_rate = 2000.0\n",
    "    learning_rate = min_learning_rate + (max_learning_rate - min_learning_rate) * np.exp(-step/decay_rate)\n",
    "    \n",
    "    offset = (step * BATCH_SIZE) % (train_labels.shape[0] - BATCH_SIZE)\n",
    "    #print ('offset: ', offset)\n",
    "    batch_X = train_dataset[offset:(offset + BATCH_SIZE), :, :, :]\n",
    "    batch_Y = train_labels [offset:(offset + BATCH_SIZE), :]\n",
    "    train_dict = {X: batch_X, \n",
    "                  Y_: batch_Y, \n",
    "                 lr: learning_rate, \n",
    "                 pkeep: 0.75}  # some dropout\n",
    "    \n",
    "    \n",
    "    # Run one Training step\n",
    "    acc_tr, los_tr, _ = session.run([accuracy, cross_entropy, train_step], feed_dict=train_dict)\n",
    "    # Store the results for charting\n",
    "    steps_train.append(step)     # x1\n",
    "    train_acc.append(acc_tr)     # y1\n",
    "    train_losses.append(los_tr)  # z1\n",
    "    \n",
    "    # Success? print Training set results\n",
    "    if update_train_data:\n",
    "        # acc_tr, los_tr = session.run([accuracy, cross_entropy], feed_dict=train_dict)\n",
    "        print (str(step) + \":\\ttrain accu:\\t\" + str(acc_tr) + \"\\tloss:\" + str(los_tr) + \n",
    "              \"\\t(lr:\" + str(learning_rate) + \")\")\n",
    "\n",
    "        \n",
    "    # print Validation and Test results\n",
    "    if update_test_data:\n",
    "        valid_dict = {X: valid_dataset, \n",
    "                      Y_: valid_labels, \n",
    "                     lr: learning_rate, \n",
    "                     pkeep: 1.0}  # no dropout\n",
    "        acc_va, los_va = session.run([accuracy, cross_entropy], feed_dict=valid_dict)\n",
    "        print (str(step) + \":\\tvalid. accu:\\t\" + str(acc_va) + \"\\tloss:\" + str(los_va) + \n",
    "              \"\\t(lr:\" + str(learning_rate) + \")\")\n",
    "        \n",
    "        \n",
    "        test_dict = {X: test_dataset, \n",
    "                     Y_: test_labels,\n",
    "                    lr: learning_rate,\n",
    "                    pkeep: 1.0}  # no dropout\n",
    "        acc_ts, los_ts = session.run([accuracy, cross_entropy], feed_dict=test_dict)\n",
    "        print (str(step) + \":\\t*** test accu:\\t\" + str(acc_ts) + \"\\tloss:\" + str(los_ts) + \n",
    "              \"\\t(lr:\" + str(learning_rate) + \")\")\n",
    "        \n",
    "        # Store results for charting\n",
    "        steps_test.append(step)    # x2\n",
    "        valid_acc.append(acc_va)   # y2\n",
    "        test_acc.append (acc_ts)   # y3\n",
    "        valid_losses.append(los_va) # z2\n",
    "        test_losses.append (los_ts) # z3\n",
    "        \n",
    "    # Run one training step\n",
    "    # session.run(train_step, feed_dict=train_dict)\n",
    "    \n"
   ]
  },
  {
   "cell_type": "code",
   "execution_count": 22,
   "metadata": {
    "collapsed": false
   },
   "outputs": [
    {
     "name": "stdout",
     "output_type": "stream",
     "text": [
      "0:\ttrain accu:\t0.05\tloss:46.8859\t(lr:0.003)\n",
      "0:\tvalid. accu:\t0.0995\tloss:46.104\t(lr:0.003)\n",
      "0:\t*** test accu:\t0.0991\tloss:46.0704\t(lr:0.003)\n",
      "200:\ttrain accu:\t0.75\tloss:16.0546\t(lr:0.0027240285123)\n",
      "200:\tvalid. accu:\t0.801\tloss:13.4466\t(lr:0.0027240285123)\n",
      "200:\t*** test accu:\t0.8703\tloss:8.80365\t(lr:0.0027240285123)\n",
      "400:\ttrain accu:\t0.85\tloss:14.0523\t(lr:0.00247431918393)\n",
      "400:\tvalid. accu:\t0.8206\tloss:11.9631\t(lr:0.00247431918393)\n",
      "400:\t*** test accu:\t0.8903\tloss:7.46272\t(lr:0.00247431918393)\n",
      "600:\ttrain accu:\t0.95\tloss:7.036\t(lr:0.00224837283998)\n",
      "600:\tvalid. accu:\t0.8369\tloss:10.8212\t(lr:0.00224837283998)\n",
      "600:\t*** test accu:\t0.9065\tloss:6.31109\t(lr:0.00224837283998)\n",
      "800:\ttrain accu:\t0.95\tloss:8.63739\t(lr:0.0020439281335)\n",
      "800:\tvalid. accu:\t0.8427\tloss:10.3205\t(lr:0.0020439281335)\n",
      "800:\t*** test accu:\t0.9115\tloss:6.06421\t(lr:0.0020439281335)\n",
      "1000:\ttrain accu:\t0.85\tloss:8.75011\t(lr:0.00185893891317)\n",
      "1000:\tvalid. accu:\t0.851\tloss:9.79976\t(lr:0.00185893891317)\n",
      "1000:\t*** test accu:\t0.9169\tloss:5.72689\t(lr:0.00185893891317)\n",
      "1200:\ttrain accu:\t0.8\tloss:12.7729\t(lr:0.00169155374467)\n",
      "1200:\tvalid. accu:\t0.8555\tloss:9.62381\t(lr:0.00169155374467)\n",
      "1200:\t*** test accu:\t0.9229\tloss:5.45548\t(lr:0.00169155374467)\n",
      "1400:\ttrain accu:\t0.9\tloss:6.05067\t(lr:0.001540097381)\n",
      "1400:\tvalid. accu:\t0.8528\tloss:9.8186\t(lr:0.001540097381)\n",
      "1400:\t*** test accu:\t0.9193\tloss:5.2154\t(lr:0.001540097381)\n",
      "1600:\ttrain accu:\t0.9\tloss:5.90422\t(lr:0.00140305399594)\n",
      "1600:\tvalid. accu:\t0.8604\tloss:9.32571\t(lr:0.00140305399594)\n",
      "1600:\t*** test accu:\t0.9248\tloss:5.02405\t(lr:0.00140305399594)\n",
      "1800:\ttrain accu:\t0.85\tloss:7.77217\t(lr:0.00127905201325)\n",
      "1800:\tvalid. accu:\t0.8605\tloss:9.00322\t(lr:0.00127905201325)\n",
      "1800:\t*** test accu:\t0.9286\tloss:4.8765\t(lr:0.00127905201325)\n",
      "2000:\ttrain accu:\t0.8\tloss:11.9818\t(lr:0.0011668503794)\n",
      "2000:\tvalid. accu:\t0.8603\tloss:8.99272\t(lr:0.0011668503794)\n",
      "2000:\t*** test accu:\t0.9303\tloss:4.94416\t(lr:0.0011668503794)\n",
      "2200:\ttrain accu:\t0.7\tloss:21.6841\t(lr:0.00106532614272)\n",
      "2200:\tvalid. accu:\t0.8656\tloss:8.75583\t(lr:0.00106532614272)\n",
      "2200:\t*** test accu:\t0.9306\tloss:4.7035\t(lr:0.00106532614272)\n",
      "2400:\ttrain accu:\t0.9\tloss:12.4336\t(lr:0.000973463214545)\n",
      "2400:\tvalid. accu:\t0.8644\tloss:8.73172\t(lr:0.000973463214545)\n",
      "2400:\t*** test accu:\t0.9324\tloss:4.64102\t(lr:0.000973463214545)\n",
      "2600:\ttrain accu:\t0.85\tloss:7.9896\t(lr:0.000890342199799)\n",
      "2600:\tvalid. accu:\t0.8685\tloss:8.51315\t(lr:0.000890342199799)\n",
      "2600:\t*** test accu:\t0.9348\tloss:4.5386\t(lr:0.000890342199799)\n",
      "2800:\ttrain accu:\t0.85\tloss:9.02024\t(lr:0.000815131195431)\n",
      "2800:\tvalid. accu:\t0.8703\tloss:8.4964\t(lr:0.000815131195431)\n",
      "2800:\t*** test accu:\t0.9351\tloss:4.42649\t(lr:0.000815131195431)\n",
      "3000:\ttrain accu:\t0.85\tloss:8.16027\t(lr:0.00074707746443)\n",
      "3000:\tvalid. accu:\t0.8685\tloss:8.47735\t(lr:0.00074707746443)\n",
      "3000:\t*** test accu:\t0.9354\tloss:4.46396\t(lr:0.00074707746443)\n",
      "3200:\ttrain accu:\t0.9\tloss:6.26694\t(lr:0.000685499902185)\n",
      "3200:\tvalid. accu:\t0.8701\tloss:8.40497\t(lr:0.000685499902185)\n",
      "3200:\t*** test accu:\t0.9356\tloss:4.33678\t(lr:0.000685499902185)\n",
      "3400:\ttrain accu:\t0.9\tloss:8.00079\t(lr:0.000629782219753)\n",
      "3400:\tvalid. accu:\t0.8686\tloss:8.37635\t(lr:0.000629782219753)\n",
      "3400:\t*** test accu:\t0.9368\tloss:4.37009\t(lr:0.000629782219753)\n",
      "3600:\ttrain accu:\t0.8\tloss:11.487\t(lr:0.000579366775843)\n",
      "3600:\tvalid. accu:\t0.8679\tloss:8.42466\t(lr:0.000579366775843)\n",
      "3600:\t*** test accu:\t0.937\tloss:4.37184\t(lr:0.000579366775843)\n",
      "3800:\ttrain accu:\t0.8\tloss:13.4358\t(lr:0.000533748995746)\n",
      "3800:\tvalid. accu:\t0.8697\tloss:8.3192\t(lr:0.000533748995746)\n",
      "3800:\t*** test accu:\t0.9377\tloss:4.20761\t(lr:0.000533748995746)\n",
      "4000:\ttrain accu:\t0.75\tloss:27.8382\t(lr:0.000492472321386)\n",
      "4000:\tvalid. accu:\t0.873\tloss:8.2834\t(lr:0.000492472321386)\n",
      "4000:\t*** test accu:\t0.9385\tloss:4.28324\t(lr:0.000492472321386)\n",
      "4200:\ttrain accu:\t0.85\tloss:5.77484\t(lr:0.000455123641934)\n",
      "4200:\tvalid. accu:\t0.8724\tloss:8.15336\t(lr:0.000455123641934)\n",
      "4200:\t*** test accu:\t0.9392\tloss:4.14903\t(lr:0.000455123641934)\n",
      "4400:\ttrain accu:\t0.8\tloss:15.2998\t(lr:0.000421329159251)\n",
      "4400:\tvalid. accu:\t0.8739\tloss:8.15162\t(lr:0.000421329159251)\n",
      "4400:\t*** test accu:\t0.9402\tloss:4.06614\t(lr:0.000421329159251)\n",
      "4600:\ttrain accu:\t0.85\tloss:12.9533\t(lr:0.000390750646796)\n",
      "4600:\tvalid. accu:\t0.8731\tloss:8.11695\t(lr:0.000390750646796)\n",
      "4600:\t*** test accu:\t0.942\tloss:4.03986\t(lr:0.000390750646796)\n",
      "4800:\ttrain accu:\t1.0\tloss:1.81776\t(lr:0.000363082064539)\n",
      "4800:\tvalid. accu:\t0.8741\tloss:8.13363\t(lr:0.000363082064539)\n",
      "4800:\t*** test accu:\t0.9392\tloss:4.10498\t(lr:0.000363082064539)\n",
      "5000:\ttrain accu:\t0.7\tloss:21.9006\t(lr:0.000338046496009)\n",
      "5000:\tvalid. accu:\t0.8739\tloss:8.05157\t(lr:0.000338046496009)\n",
      "5000:\t*** test accu:\t0.9411\tloss:4.03993\t(lr:0.000338046496009)\n"
     ]
    }
   ],
   "source": [
    "## Run the model\n",
    "NUM_STEPS = 5000\n",
    "\n",
    "for i in range(NUM_STEPS+1):\n",
    "    training_step(i, i % 200 == 0, i % 200 == 0)"
   ]
  },
  {
   "cell_type": "markdown",
   "metadata": {},
   "source": [
    "### Results: Test acc: 94.47%  pkeep = 0.5, STEPS=5000, \n",
    "```4950:\taccuracy:\t0.875\tloss:5.69609\t(lr:0.000344072671746)\n",
    "5000:\taccuracy:\t0.75\tloss:15.1087\t(lr:0.000338046496009)\n",
    "5000:\tvalid. acc:\t0.8818\tloss:6.09631\t(lr:0.000338046496009)\n",
    "5000:\t*** test acc:\t0.9447\tloss:3.00196\t(lr:0.000338046496009)\n",
    "```"
   ]
  },
  {
   "cell_type": "markdown",
   "metadata": {},
   "source": [
    "### Results: Test acc: 94.63% pkeep = 0.75, STEPS=3000\n",
    "```\n",
    "2950:\ttrain accu:\t0.9375\tloss:5.9666\t(lr:0.000763458308431)\n",
    "3000:\ttrain accu:\t0.875\tloss:19.2072\t(lr:0.00074707746443)\n",
    "3000:\tvalid. accu:\t0.8849\tloss:5.97304\t(lr:0.00074707746443)\n",
    "3000:\t*** test accu:\t0.9463\tloss:2.84099\t(lr:0.00074707746443)\n",
    "```"
   ]
  },
  {
   "cell_type": "markdown",
   "metadata": {},
   "source": [
    "### Results: Kernel: 3x3, Batch: 20, \n",
    "pkeep = 0.75, Steps = 3000, P=4, Q=8, R=16, S=64\n",
    "```\n",
    "3000:\ttrain accu:\t0.9\tloss:7.78198\t(lr:0.00074707746443)\n",
    "3000:\tvalid. accu:\t0.8723\tloss:8.31262\t(lr:0.00074707746443)\n",
    "3000:\t*** test accu:\t0.9382\tloss:4.47826\t(lr:0.00074707746443)\n",
    "```"
   ]
  },
  {
   "cell_type": "markdown",
   "metadata": {},
   "source": [
    "```\n",
    "6000:\ttrain accu:\t0.95\tloss:3.58783\t(lr:0.000244382498267)\n",
    "6000:\tvalid. accu:\t0.8881\tloss:7.35652\t(lr:0.000244382498267)\n",
    "6000:\t*** test accu:\t0.948\tloss:3.50985\t(lr:0.000244382498267)\n",
    "```"
   ]
  },
  {
   "cell_type": "code",
   "execution_count": 24,
   "metadata": {
    "collapsed": false
   },
   "outputs": [
    {
     "name": "stdout",
     "output_type": "stream",
     "text": [
      "26 26 26 26\n",
      "5001 5001 5001\n"
     ]
    }
   ],
   "source": [
    "print(len(steps_test), len(test_acc), len(valid_acc), len(valid_losses))\n",
    "print(len(steps_train), len(train_acc), len(train_losses))\n"
   ]
  },
  {
   "cell_type": "code",
   "execution_count": 33,
   "metadata": {
    "collapsed": false
   },
   "outputs": [
    {
     "data": {
      "image/png": "[encoded data removed]",
      "text/plain": [
       "<matplotlib.figure.Figure at 0x142de09e8>"
      ]
     },
     "metadata": {},
     "output_type": "display_data"
    }
   ],
   "source": [
    "\n",
    "# Plot\n",
    "plt.figure(1, figsize=(10,10))\n",
    "\n",
    "plt.subplot(221)\n",
    "plt.plot(steps_train, train_acc)\n",
    "plt.title('Train accuracy')\n",
    "\n",
    "plt.subplot(222)\n",
    "plt.plot(steps_train, train_losses)\n",
    "plt.title('Train losses')\n",
    "\n",
    "plt.subplot(223)\n",
    "plt.plot(steps_test, valid_acc, 'b', label='valid')\n",
    "plt.plot(steps_test, test_acc, label='test')\n",
    "plt.title('Test/Val acc')\n",
    "plt.legend()\n",
    "\n",
    "plt.subplot(224)\n",
    "plt.plot(steps_test, valid_losses, 'b', label='Valid')\n",
    "plt.plot(steps_test, test_losses, label='Test')\n",
    "plt.title('Test/Val loss')\n",
    "plt.legend()\n",
    "\n",
    "plt.show()\n"
   ]
  },
  {
   "cell_type": "markdown",
   "metadata": {},
   "source": [
    "### Results:  Test Accuracy 94.11%\n",
    "```\n",
    "# 3 conv layers with their channel counts, and a \n",
    "# last Fully Connected layer (that last fc layer has 10 softmax nodes)\n",
    "P = 4  # 1st hidden layer\n",
    "Q = 8  # 2nd hidden\n",
    "R = 16  # 3rd hidden\n",
    "S = 64  # Last Fully Connected layer\n",
    "=====\n",
    "\n",
    "5000:\ttrain accu:\t0.7\tloss:21.9006\t(lr:0.000338046496009)\n",
    "5000:\tvalid. accu:\t0.8739\tloss:8.05157\t(lr:0.000338046496009)\n",
    "5000:\t*** test accu:\t0.9411\tloss:4.03993\t(lr:0.000338046496009)\n",
    "```"
   ]
  },
  {
   "cell_type": "code",
   "execution_count": null,
   "metadata": {
    "collapsed": true
   },
   "outputs": [],
   "source": []
  }
 ],
 "metadata": {
  "kernelspec": {
   "display_name": "Python 3",
   "language": "python",
   "name": "python3"
  },
  "language_info": {
   "codemirror_mode": {
    "name": "ipython",
    "version": 3
   },
   "file_extension": ".py",
   "mimetype": "text/x-python",
   "name": "python",
   "nbconvert_exporter": "python",
   "pygments_lexer": "ipython3",
   "version": "3.5.2"
  }
 },
 "nbformat": 4,
 "nbformat_minor": 0
}
