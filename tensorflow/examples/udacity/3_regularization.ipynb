{
 "cells": [
  {
   "cell_type": "markdown",
   "metadata": {
    "colab_type": "text",
    "id": "kR-4eNdK6lYS"
   },
   "source": [
    "Deep Learning\n",
    "=============\n",
    "\n",
    "Assignment 3\n",
    "------------\n",
    "\n",
    "Previously in `2_fullyconnected.ipynb`, you trained a logistic regression and a neural network model.\n",
    "\n",
    "The goal of this assignment is to explore regularization techniques."
   ]
  },
  {
   "cell_type": "code",
   "execution_count": 1,
   "metadata": {
    "cellView": "both",
    "colab": {
     "autoexec": {
      "startup": false,
      "wait_interval": 0
     }
    },
    "colab_type": "code",
    "collapsed": true,
    "id": "JLpLa8Jt7Vu4"
   },
   "outputs": [],
   "source": [
    "# These are all the modules we'll be using later. Make sure you can import them\n",
    "# before proceeding further.\n",
    "from __future__ import print_function\n",
    "import numpy as np\n",
    "import tensorflow as tf\n",
    "from six.moves import cPickle as pickle"
   ]
  },
  {
   "cell_type": "markdown",
   "metadata": {
    "colab_type": "text",
    "id": "1HrCK6e17WzV"
   },
   "source": [
    "First reload the data we generated in _notmist.ipynb_."
   ]
  },
  {
   "cell_type": "code",
   "execution_count": 2,
   "metadata": {
    "cellView": "both",
    "colab": {
     "autoexec": {
      "startup": false,
      "wait_interval": 0
     },
     "output_extras": [
      {
       "item_id": 1
      }
     ]
    },
    "colab_type": "code",
    "collapsed": false,
    "executionInfo": {
     "elapsed": 11777,
     "status": "ok",
     "timestamp": 1449849322348,
     "user": {
      "color": "",
      "displayName": "",
      "isAnonymous": false,
      "isMe": true,
      "permissionId": "",
      "photoUrl": "",
      "sessionId": "0",
      "userId": ""
     },
     "user_tz": 480
    },
    "id": "y3-cj1bpmuxc",
    "outputId": "e03576f1-ebbe-4838-c388-f1777bcc9873"
   },
   "outputs": [
    {
     "name": "stdout",
     "output_type": "stream",
     "text": [
      "Training set (200000, 28, 28) (200000,)\n",
      "Validation set (10000, 28, 28) (10000,)\n",
      "Test set (10000, 28, 28) (10000,)\n"
     ]
    }
   ],
   "source": [
    "pickle_file = 'notMNIST.pickle'\n",
    "\n",
    "with open(pickle_file, 'rb') as f:\n",
    "  save = pickle.load(f)\n",
    "  train_dataset = save['train_dataset']\n",
    "  train_labels = save['train_labels']\n",
    "  valid_dataset = save['valid_dataset']\n",
    "  valid_labels = save['valid_labels']\n",
    "  test_dataset = save['test_dataset']\n",
    "  test_labels = save['test_labels']\n",
    "  del save  # hint to help gc free up memory\n",
    "  print('Training set', train_dataset.shape, train_labels.shape)\n",
    "  print('Validation set', valid_dataset.shape, valid_labels.shape)\n",
    "  print('Test set', test_dataset.shape, test_labels.shape)"
   ]
  },
  {
   "cell_type": "markdown",
   "metadata": {
    "colab_type": "text",
    "id": "L7aHrm6nGDMB"
   },
   "source": [
    "Reformat into a shape that's more adapted to the models we're going to train:\n",
    "- data as a flat matrix,\n",
    "- labels as float 1-hot encodings."
   ]
  },
  {
   "cell_type": "code",
   "execution_count": 3,
   "metadata": {
    "cellView": "both",
    "colab": {
     "autoexec": {
      "startup": false,
      "wait_interval": 0
     },
     "output_extras": [
      {
       "item_id": 1
      }
     ]
    },
    "colab_type": "code",
    "collapsed": false,
    "executionInfo": {
     "elapsed": 11728,
     "status": "ok",
     "timestamp": 1449849322356,
     "user": {
      "color": "",
      "displayName": "",
      "isAnonymous": false,
      "isMe": true,
      "permissionId": "",
      "photoUrl": "",
      "sessionId": "0",
      "userId": ""
     },
     "user_tz": 480
    },
    "id": "IRSyYiIIGIzS",
    "outputId": "3f8996ee-3574-4f44-c953-5c8a04636582"
   },
   "outputs": [
    {
     "name": "stdout",
     "output_type": "stream",
     "text": [
      "Training set (200000, 784) (200000, 10)\n",
      "Validation set (10000, 784) (10000, 10)\n",
      "Test set (10000, 784) (10000, 10)\n"
     ]
    }
   ],
   "source": [
    "image_size = 28\n",
    "num_labels = 10\n",
    "\n",
    "def reformat(dataset, labels):\n",
    "  dataset = dataset.reshape((-1, image_size * image_size)).astype(np.float32)\n",
    "  # Map 1 to [0.0, 1.0, 0.0 ...], 2 to [0.0, 0.0, 1.0 ...]\n",
    "  labels = (np.arange(num_labels) == labels[:,None]).astype(np.float32)\n",
    "  return dataset, labels\n",
    "train_dataset, train_labels = reformat(train_dataset, train_labels)\n",
    "valid_dataset, valid_labels = reformat(valid_dataset, valid_labels)\n",
    "test_dataset, test_labels = reformat(test_dataset, test_labels)\n",
    "print('Training set', train_dataset.shape, train_labels.shape)\n",
    "print('Validation set', valid_dataset.shape, valid_labels.shape)\n",
    "print('Test set', test_dataset.shape, test_labels.shape)"
   ]
  },
  {
   "cell_type": "code",
   "execution_count": 4,
   "metadata": {
    "cellView": "both",
    "colab": {
     "autoexec": {
      "startup": false,
      "wait_interval": 0
     }
    },
    "colab_type": "code",
    "collapsed": true,
    "id": "RajPLaL_ZW6w"
   },
   "outputs": [],
   "source": [
    "def accuracy(predictions, labels):\n",
    "  return (100.0 * np.sum(np.argmax(predictions, 1) == np.argmax(labels, 1))\n",
    "          / predictions.shape[0])"
   ]
  },
  {
   "cell_type": "markdown",
   "metadata": {
    "colab_type": "text",
    "id": "sgLbUAQ1CW-1"
   },
   "source": [
    "---\n",
    "Problem 1\n",
    "---------\n",
    "\n",
    "Introduce and tune L2 regularization for both logistic and neural network models. Remember that L2 amounts to adding a penalty on the norm of the weights to the loss. In TensorFlow, you can compute the L2 loss for a tensor `t` using `nn.l2_loss(t)`. The right amount of regularization should improve your validation / test accuracy.\n",
    "\n",
    "---"
   ]
  },
  {
   "cell_type": "markdown",
   "metadata": {},
   "source": [
    "Start with Logistic model"
   ]
  },
  {
   "cell_type": "code",
   "execution_count": 7,
   "metadata": {
    "collapsed": false
   },
   "outputs": [],
   "source": [
    "batch_size = 128\n",
    "\n",
    "graph = tf.Graph()\n",
    "with graph.as_default():\n",
    "    with tf.device('/cpu:0'):  # force CPU-only usage  (bcos I have trouble w/ GPU memory)\n",
    "        # Input data. For the training data, we use a placeholder that will be fed\n",
    "        # at run time with a training minibatch.\n",
    "        tf_train_dataset = tf.placeholder(tf.float32, \n",
    "                                         shape=(batch_size, image_size*image_size))\n",
    "        tf_train_labels  = tf.placeholder(tf.float32, shape=(batch_size, num_labels))\n",
    "        tf_valid_dataset = tf.constant(valid_dataset)\n",
    "        tf_test_dataset  = tf.constant(test_dataset)\n",
    "        beta             = tf.placeholder(tf.float32)  # Beta for Regularization\n",
    "        \n",
    "        # Variables \n",
    "        weights  = tf.Variable(\n",
    "                    tf.truncated_normal([image_size * image_size, num_labels]))\n",
    "        biases   = tf.Variable(tf.zeros([num_labels]))\n",
    "        \n",
    "        ## Training computation\n",
    "        # logits = X . W + b\n",
    "        logits = tf.matmul( tf_train_dataset, weights) + biases\n",
    "        # loss is avg of {cross entropy for the logits + regularized weights}\n",
    "        loss   = tf.reduce_mean( \n",
    "                    tf.nn.softmax_cross_entropy_with_logits(logits, tf_train_labels)) + beta * tf.nn.l2_loss(weights)\n",
    "        \n",
    "        ## Optimizer\n",
    "        optimizer = tf.train.GradientDescentOptimizer(0.5).minimize(loss)\n",
    "        \n",
    "        ## Predictions for training, validation and test \n",
    "        train_prediction = tf.nn.softmax(logits)\n",
    "        valid_prediction = tf.nn.softmax(\n",
    "                            tf.matmul(tf_valid_dataset, weights) + biases)\n",
    "        test_prediction  = tf.nn.softmax(tf.matmul(tf_test_dataset, weights) + biases)"
   ]
  },
  {
   "cell_type": "code",
   "execution_count": 8,
   "metadata": {
    "collapsed": false
   },
   "outputs": [
    {
     "name": "stdout",
     "output_type": "stream",
     "text": [
      "Initialized\n",
      "minibatch loss at step 0: 17.342541\n",
      "minibatch accuracy : 21.1%\n",
      "validation accuracy: 18.0%\n",
      "minibatch loss at step 500: 2.486070\n",
      "minibatch accuracy : 82.0%\n",
      "validation accuracy: 76.1%\n",
      "minibatch loss at step 1000: 1.770455\n",
      "minibatch accuracy : 78.1%\n",
      "validation accuracy: 77.9%\n",
      "minibatch loss at step 1500: 0.944515\n",
      "minibatch accuracy : 84.4%\n",
      "validation accuracy: 79.7%\n",
      "minibatch loss at step 2000: 0.846611\n",
      "minibatch accuracy : 86.7%\n",
      "validation accuracy: 80.7%\n",
      "minibatch loss at step 2500: 0.858664\n",
      "minibatch accuracy : 81.2%\n",
      "validation accuracy: 81.4%\n",
      "minibatch loss at step 3000: 0.770286\n",
      "minibatch accuracy : 85.2%\n",
      "validation accuracy: 81.6%\n",
      "\n",
      "Test accuracy: 88.8%\n"
     ]
    }
   ],
   "source": [
    "num_steps = 3001\n",
    "\n",
    "## For limiting GPU memory usage: -- Added by Atul\n",
    "config = tf.ConfigProto()\n",
    "config.gpu_options.allow_growth=True\n",
    "\n",
    "with tf.Session(graph=graph, config=config) as session:\n",
    "    tf.initialize_all_variables().run()\n",
    "    print (\"Initialized\")\n",
    "    for step in range(num_steps):\n",
    "        # Pick an offset within the training data, which has been randomized.\n",
    "        # Note: we could use better randomization across epochs.\n",
    "        offset = (step * batch_size) % (train_labels.shape[0] - batch_size)\n",
    "        # Generate a mini batch\n",
    "        batch_data   = train_dataset[offset:(offset + batch_size), :]\n",
    "        batch_labels = train_labels [offset:(offset + batch_size), :]\n",
    "        # Make a dict telling the session where to find the minibatch\n",
    "        feed_dict = { tf_train_dataset: batch_data,\n",
    "                     tf_train_labels: batch_labels,\n",
    "                     beta: 1e-3 }\n",
    "        # Run the damn thing\n",
    "        _, loss_step, predictions = session.run(\n",
    "            [optimizer, loss, train_prediction], feed_dict=feed_dict)\n",
    "        # show progress\n",
    "        if (step % 500 == 0):\n",
    "            print(\"minibatch loss at step %d: %f\" % (step, loss_step))\n",
    "            print(\"minibatch accuracy : %.1f%%\" % accuracy(predictions, batch_labels))\n",
    "            print(\"validation accuracy: %.1f%%\" % accuracy(valid_prediction.eval(), valid_labels))\n",
    "    print(\"\\nTest accuracy: %.1f%%\" % accuracy(test_prediction.eval(), test_labels))\n"
   ]
  },
  {
   "cell_type": "markdown",
   "metadata": {},
   "source": [
    "We dont know what is an optimum value of the Regularization param, so we could run the test with different values and see which gives the best accuracy\n"
   ]
  },
  {
   "cell_type": "code",
   "execution_count": 9,
   "metadata": {
    "collapsed": false
   },
   "outputs": [
    {
     "name": "stdout",
     "output_type": "stream",
     "text": [
      "Initialized\n",
      "Initialized\n",
      "Initialized\n",
      "Initialized\n",
      "Initialized\n",
      "Initialized\n",
      "Initialized\n",
      "Initialized\n",
      "Initialized\n",
      "Initialized\n",
      "Initialized\n",
      "Initialized\n",
      "Initialized\n",
      "Initialized\n",
      "Initialized\n",
      "Initialized\n",
      "Initialized\n",
      "Initialized\n",
      "Initialized\n",
      "Initialized\n"
     ]
    }
   ],
   "source": [
    "num_steps = 3001\n",
    "params_regularization = [pow(10, i) for i in np.arange(-4, -2, 0.1)]\n",
    "accuracy_values = []\n",
    "\n",
    "for R_param in params_regularization:\n",
    "    with tf.Session(graph=graph, config=config) as session:\n",
    "        tf.initialize_all_variables().run()\n",
    "        print (\"Initialized\")\n",
    "        for step in range(num_steps):\n",
    "            # Pick an offset within the training data, which has been randomized.\n",
    "            # Note: we could use better randomization across epochs.\n",
    "            offset = (step * batch_size) % (train_labels.shape[0] - batch_size)\n",
    "            # Generate a mini batch\n",
    "            batch_data   = train_dataset[offset:(offset + batch_size), :]\n",
    "            batch_labels = train_labels [offset:(offset + batch_size), :]\n",
    "            # Make a dict telling the session where to find the minibatch\n",
    "            feed_dict = { tf_train_dataset: batch_data,\n",
    "                     tf_train_labels: batch_labels,\n",
    "                     beta: R_param }\n",
    "            # Run the damn thing\n",
    "            _, loss_step, predictions = session.run(\n",
    "                [optimizer, loss, train_prediction], feed_dict=feed_dict)\n",
    "            # save the TEST accuracy only\n",
    "        accuracy_values.append(accuracy(test_prediction.eval(), test_labels))"
   ]
  },
  {
   "cell_type": "code",
   "execution_count": 11,
   "metadata": {
    "collapsed": false,
    "scrolled": true
   },
   "outputs": [
    {
     "data": {
      "image/png": "[encoded data removed]",
      "text/plain": [
       "<matplotlib.figure.Figure at 0x12d516630>"
      ]
     },
     "metadata": {},
     "output_type": "display_data"
    }
   ],
   "source": [
    "# let's plot the accuracy\n",
    "\n",
    "import matplotlib.pyplot as plt\n",
    "%matplotlib inline\n",
    "\n",
    "plt.semilogx(params_regularization, accuracy_values)\n",
    "plt.grid(True)\n",
    "plt.title('Test accuracy by regularization')\n",
    "plt.show()"
   ]
  },
  {
   "cell_type": "markdown",
   "metadata": {},
   "source": [
    "Let's try the technique with 2-layer network (1-hidden)"
   ]
  },
  {
   "cell_type": "code",
   "execution_count": 32,
   "metadata": {
    "collapsed": true
   },
   "outputs": [],
   "source": [
    "batch_size = 100\n",
    "num_hidden_nodes = 1024\n",
    "\n",
    "graph = tf.Graph()\n",
    "with graph.as_default():\n",
    "    with tf.device('/cpu:0'):   # for force CPU only (as my GPU mem was not enough)\n",
    "        # Input data\n",
    "        tf_train_dataset = tf.placeholder( tf.float32, \n",
    "                                         shape=(batch_size, image_size*image_size))\n",
    "        tf_train_labels  = tf.placeholder( tf.float32, shape=(batch_size, num_labels))\n",
    "        tf_valid_dataset = tf.constant(valid_dataset)\n",
    "        tf_test_dataset  = tf.constant(test_dataset)\n",
    "        # Beta for Regularization\n",
    "        beta             = tf.placeholder(tf.float32)\n",
    "        \n",
    "        # Variables\n",
    "        weights1 = tf.Variable( \n",
    "            tf.truncated_normal([image_size*image_size, num_hidden_nodes]))\n",
    "        biases1  = tf.Variable(tf.zeros([num_hidden_nodes]))\n",
    "        weights2 = tf.Variable(\n",
    "            tf.truncated_normal([num_hidden_nodes, num_labels]))\n",
    "        biases2  = tf.Variable(tf.zeros([num_labels]))\n",
    "        \n",
    "        # Training computation\n",
    "        layer1_out = tf.nn.relu(tf.matmul(tf_train_dataset, weights1) + biases1)\n",
    "        logits = tf.matmul(layer1_out, weights2) + biases2\n",
    "        loss = tf.reduce_mean(\n",
    "            tf.nn.softmax_cross_entropy_with_logits(logits, tf_train_labels)) + \\\n",
    "            beta * (tf.nn.l2_loss(weights1) + tf.nn.l2_loss(weights2))\n",
    "        \n",
    "        # Optimizer\n",
    "        optimizer = tf.train.GradientDescentOptimizer(0.5).minimize(loss)\n",
    "        \n",
    "        # Preductions for training / validation / test\n",
    "        train_prediction  = tf.nn.softmax(logits)\n",
    "        layer1_validation = tf.nn.relu(tf.matmul(tf_valid_dataset, weights1) + biases1)\n",
    "        valid_prediction  = tf.nn.softmax(tf.matmul(layer1_validation, weights2) + biases2)\n",
    "        layer1_test       = tf.nn.relu(tf.matmul(tf_test_dataset, weights1) + biases1)\n",
    "        test_prediction   = tf.nn.softmax(tf.matmul(layer1_test, weights2) + biases2)\n",
    "        "
   ]
  },
  {
   "cell_type": "code",
   "execution_count": 34,
   "metadata": {
    "collapsed": false
   },
   "outputs": [
    {
     "name": "stdout",
     "output_type": "stream",
     "text": [
      "Initialized\n",
      "minibatch loss at step 0: 663.689575\n",
      "minibatch accuracy : 10.0%\n",
      "validation accuracy: 29.5%\n",
      "minibatch loss at step 500: 204.714737\n",
      "minibatch accuracy : 77.0%\n",
      "validation accuracy: 79.4%\n",
      "minibatch loss at step 1000: 115.530586\n",
      "minibatch accuracy : 75.0%\n",
      "validation accuracy: 80.6%\n",
      "minibatch loss at step 1500: 69.627472\n",
      "minibatch accuracy : 76.0%\n",
      "validation accuracy: 81.2%\n",
      "minibatch loss at step 2000: 41.660244\n",
      "minibatch accuracy : 77.0%\n",
      "validation accuracy: 83.0%\n",
      "minibatch loss at step 2500: 25.039907\n",
      "minibatch accuracy : 90.0%\n",
      "validation accuracy: 85.8%\n",
      "minibatch loss at step 3000: 15.567118\n",
      "minibatch accuracy : 85.0%\n",
      "validation accuracy: 86.2%\n",
      "\n",
      "Test accuracy: 93.1%\n"
     ]
    }
   ],
   "source": [
    "num_steps = 3001\n",
    "\n",
    "\n",
    "beta_fixed = 1e-3   # Testing with one value of Regularization param\n",
    "\n",
    "## For limiting GPU memory usage: -- Added by Atul\n",
    "config = tf.ConfigProto()\n",
    "config.gpu_options.allow_growth=True\n",
    "\n",
    "with tf.Session(graph=graph, config=config) as session:\n",
    "    tf.initialize_all_variables().run()\n",
    "    print (\"Initialized\")\n",
    "    for step in range(num_steps):\n",
    "        # Pick an offset within the training data, which has been randomized.\n",
    "        # Note: we could use better randomization across epochs.\n",
    "        offset = (step * batch_size) % (train_labels.shape[0] - batch_size)\n",
    "        # Generate a mini batch\n",
    "        batch_data   = train_dataset[offset:(offset + batch_size), :]\n",
    "        batch_labels = train_labels [offset:(offset + batch_size), :]\n",
    "        # Make a dict telling the session where to find the minibatch\n",
    "        feed_dict = { tf_train_dataset: batch_data,\n",
    "                     tf_train_labels: batch_labels,\n",
    "                     beta: beta_fixed }    # Regularization param from above\n",
    "        # Run the damn thing\n",
    "        _, loss_step, predictions = session.run(\n",
    "            [optimizer, loss, train_prediction], feed_dict=feed_dict)\n",
    "        # show progress\n",
    "        if (step % 500 == 0):\n",
    "            print(\"minibatch loss at step %d: %f\" % (step, loss_step))\n",
    "            print(\"minibatch accuracy : %.1f%%\" % accuracy(predictions, batch_labels))\n",
    "            print(\"validation accuracy: %.1f%%\" % accuracy(valid_prediction.eval(), valid_labels))\n",
    "    print(\"\\nTest accuracy: %.1f%%\" % accuracy(test_prediction.eval(), test_labels))"
   ]
  },
  {
   "cell_type": "code",
   "execution_count": null,
   "metadata": {
    "collapsed": true
   },
   "outputs": [],
   "source": [
    "Getting better. Let's try for different value of Regularization param"
   ]
  },
  {
   "cell_type": "code",
   "execution_count": 35,
   "metadata": {
    "collapsed": false
   },
   "outputs": [
    {
     "name": "stdout",
     "output_type": "stream",
     "text": [
      "Initialized for reg param:  0.0001\n",
      "Initialized for reg param:  0.000125892541179\n",
      "Initialized for reg param:  0.000158489319246\n",
      "Initialized for reg param:  0.000199526231497\n",
      "Initialized for reg param:  0.000251188643151\n",
      "Initialized for reg param:  0.000316227766017\n",
      "Initialized for reg param:  0.000398107170553\n",
      "Initialized for reg param:  0.000501187233627\n",
      "Initialized for reg param:  0.00063095734448\n",
      "Initialized for reg param:  0.000794328234724\n",
      "Initialized for reg param:  0.001\n",
      "Initialized for reg param:  0.00125892541179\n",
      "Initialized for reg param:  0.00158489319246\n",
      "Initialized for reg param:  0.00199526231497\n",
      "Initialized for reg param:  0.00251188643151\n",
      "Initialized for reg param:  0.00316227766017\n",
      "Initialized for reg param:  0.00398107170553\n",
      "Initialized for reg param:  0.00501187233627\n",
      "Initialized for reg param:  0.0063095734448\n",
      "Initialized for reg param:  0.00794328234724\n"
     ]
    }
   ],
   "source": [
    "num_steps = 3001\n",
    "params_regularization = [pow(10, i) for i in np.arange(-4, -2, 0.1)]\n",
    "accuracy_values = []\n",
    "\n",
    "for R_param in params_regularization:\n",
    "    with tf.Session(graph=graph, config=config) as session:\n",
    "        tf.initialize_all_variables().run()\n",
    "        print (\"Initialized for reg param: \", R_param)\n",
    "        for step in range(num_steps):\n",
    "            # Pick an offset within the training data, which has been randomized.\n",
    "            # Note: we could use better randomization across epochs.\n",
    "            offset = (step * batch_size) % (train_labels.shape[0] - batch_size)\n",
    "            # Generate a mini batch\n",
    "            batch_data   = train_dataset[offset:(offset + batch_size), :]\n",
    "            batch_labels = train_labels [offset:(offset + batch_size), :]\n",
    "            # Make a dict telling the session where to find the minibatch\n",
    "            feed_dict = { tf_train_dataset: batch_data,\n",
    "                     tf_train_labels: batch_labels,\n",
    "                     beta: R_param }\n",
    "            # Run the damn thing\n",
    "            _, loss_step, predictions = session.run(\n",
    "                [optimizer, loss, train_prediction], feed_dict=feed_dict)\n",
    "            # save the TEST accuracy only\n",
    "        accuracy_values.append(accuracy(test_prediction.eval(), test_labels))"
   ]
  },
  {
   "cell_type": "code",
   "execution_count": 36,
   "metadata": {
    "collapsed": false
   },
   "outputs": [
    {
     "data": {
      "image/png": "[encoded data removed]",
      "text/plain": [
       "<matplotlib.figure.Figure at 0x137f695f8>"
      ]
     },
     "metadata": {},
     "output_type": "display_data"
    }
   ],
   "source": [
    "# Let's plot it\n",
    "plt.semilogx(params_regularization, accuracy_values)\n",
    "plt.grid(True)\n",
    "plt.title('Test accuracy by regularization (1-hidden RELU layer)')\n",
    "plt.show()"
   ]
  },
  {
   "cell_type": "code",
   "execution_count": 39,
   "metadata": {
    "collapsed": false
   },
   "outputs": [
    {
     "name": "stdout",
     "output_type": "stream",
     "text": [
      "index of max accuracy:  11\n",
      "max accuracy:  93.33 , reg param: 0.00125892541179\n"
     ]
    }
   ],
   "source": [
    "def myargmax(lst):\n",
    "    return lst.index(max(lst))\n",
    "\n",
    "maxindex = myargmax(accuracy_values)\n",
    "print('index of max accuracy: ', maxindex)\n",
    "print('max accuracy: ', accuracy_values[maxindex], ', reg param:', params_regularization[maxindex] )"
   ]
  },
  {
   "cell_type": "markdown",
   "metadata": {
    "colab_type": "text",
    "id": "na8xX2yHZzNF"
   },
   "source": [
    "---\n",
    "Problem 2\n",
    "---------\n",
    "Let's demonstrate an extreme case of overfitting. Restrict your training data to just a few batches. What happens?\n",
    "\n",
    "---"
   ]
  },
  {
   "cell_type": "code",
   "execution_count": 40,
   "metadata": {
    "collapsed": true
   },
   "outputs": [],
   "source": [
    "## Let's define a 2-layer network with 1-hidden ReLU layer\n",
    "batch_size = 100\n",
    "num_hidden_nodes = 1024\n",
    "\n",
    "graph = tf.Graph()\n",
    "with graph.as_default():\n",
    "    with tf.device('/cpu:0'):   # for force CPU only (as my GPU mem was not enough)\n",
    "        # Input data\n",
    "        tf_train_dataset = tf.placeholder( tf.float32, \n",
    "                                         shape=(batch_size, image_size*image_size))\n",
    "        tf_train_labels  = tf.placeholder( tf.float32, shape=(batch_size, num_labels))\n",
    "        tf_valid_dataset = tf.constant(valid_dataset)\n",
    "        tf_test_dataset  = tf.constant(test_dataset)\n",
    "        # Beta for Regularization\n",
    "        beta             = tf.placeholder(tf.float32)\n",
    "        \n",
    "        # Variables\n",
    "        weights1 = tf.Variable( \n",
    "            tf.truncated_normal([image_size*image_size, num_hidden_nodes]))\n",
    "        biases1  = tf.Variable(tf.zeros([num_hidden_nodes]))\n",
    "        weights2 = tf.Variable(\n",
    "            tf.truncated_normal([num_hidden_nodes, num_labels]))\n",
    "        biases2  = tf.Variable(tf.zeros([num_labels]))\n",
    "        \n",
    "        # Training computation\n",
    "        layer1_out = tf.nn.relu(tf.matmul(tf_train_dataset, weights1) + biases1)\n",
    "        logits = tf.matmul(layer1_out, weights2) + biases2\n",
    "        loss = tf.reduce_mean(\n",
    "            tf.nn.softmax_cross_entropy_with_logits(logits, tf_train_labels)) + \\\n",
    "            beta * (tf.nn.l2_loss(weights1) + tf.nn.l2_loss(weights2))\n",
    "        \n",
    "        # Optimizer\n",
    "        optimizer = tf.train.GradientDescentOptimizer(0.5).minimize(loss)\n",
    "        \n",
    "        # Preductions for training / validation / test\n",
    "        train_prediction  = tf.nn.softmax(logits)\n",
    "        layer1_validation = tf.nn.relu(tf.matmul(tf_valid_dataset, weights1) + biases1)\n",
    "        valid_prediction  = tf.nn.softmax(tf.matmul(layer1_validation, weights2) + biases2)\n",
    "        layer1_test       = tf.nn.relu(tf.matmul(tf_test_dataset, weights1) + biases1)\n",
    "        test_prediction   = tf.nn.softmax(tf.matmul(layer1_test, weights2) + biases2)\n"
   ]
  },
  {
   "cell_type": "code",
   "execution_count": 41,
   "metadata": {
    "collapsed": false
   },
   "outputs": [
    {
     "name": "stdout",
     "output_type": "stream",
     "text": [
      "Initialized\n",
      "minibatch loss at step 0: 733.867920\n",
      "minibatch accuracy : 12.0%\n",
      "validation accuracy: 29.5%\n",
      "minibatch loss at step 5: 445.479431\n",
      "minibatch accuracy : 82.0%\n",
      "validation accuracy: 59.1%\n",
      "minibatch loss at step 10: 311.561920\n",
      "minibatch accuracy : 100.0%\n",
      "validation accuracy: 58.8%\n",
      "minibatch loss at step 15: 310.007568\n",
      "minibatch accuracy : 100.0%\n",
      "validation accuracy: 58.8%\n",
      "minibatch loss at step 20: 308.461121\n",
      "minibatch accuracy : 100.0%\n",
      "validation accuracy: 58.8%\n",
      "minibatch loss at step 25: 306.922333\n",
      "minibatch accuracy : 100.0%\n",
      "validation accuracy: 58.8%\n",
      "minibatch loss at step 30: 305.391235\n",
      "minibatch accuracy : 100.0%\n",
      "validation accuracy: 58.8%\n",
      "minibatch loss at step 35: 303.867859\n",
      "minibatch accuracy : 100.0%\n",
      "validation accuracy: 58.8%\n",
      "minibatch loss at step 40: 302.351837\n",
      "minibatch accuracy : 100.0%\n",
      "validation accuracy: 58.8%\n",
      "minibatch loss at step 45: 300.843262\n",
      "minibatch accuracy : 100.0%\n",
      "validation accuracy: 58.8%\n",
      "minibatch loss at step 50: 299.342682\n",
      "minibatch accuracy : 100.0%\n",
      "validation accuracy: 58.8%\n",
      "minibatch loss at step 55: 297.849121\n",
      "minibatch accuracy : 100.0%\n",
      "validation accuracy: 58.8%\n",
      "minibatch loss at step 60: 296.363251\n",
      "minibatch accuracy : 100.0%\n",
      "validation accuracy: 58.8%\n",
      "minibatch loss at step 65: 294.884827\n",
      "minibatch accuracy : 100.0%\n",
      "validation accuracy: 58.8%\n",
      "minibatch loss at step 70: 293.413391\n",
      "minibatch accuracy : 100.0%\n",
      "validation accuracy: 58.8%\n",
      "minibatch loss at step 75: 291.949951\n",
      "minibatch accuracy : 100.0%\n",
      "validation accuracy: 58.8%\n",
      "minibatch loss at step 80: 290.493347\n",
      "minibatch accuracy : 100.0%\n",
      "validation accuracy: 58.8%\n",
      "minibatch loss at step 85: 289.044220\n",
      "minibatch accuracy : 100.0%\n",
      "validation accuracy: 58.8%\n",
      "minibatch loss at step 90: 287.602264\n",
      "minibatch accuracy : 100.0%\n",
      "validation accuracy: 58.8%\n",
      "minibatch loss at step 95: 286.167542\n",
      "minibatch accuracy : 100.0%\n",
      "validation accuracy: 58.8%\n",
      "minibatch loss at step 100: 284.739777\n",
      "minibatch accuracy : 100.0%\n",
      "validation accuracy: 58.8%\n",
      "\n",
      "Test accuracy: 66.1%\n"
     ]
    }
   ],
   "source": [
    "num_steps = 101   # few steps to show Overfitting\n",
    "num_batches = 5   # Using small batches to show Overfitting\n",
    "\n",
    "\n",
    "beta_fixed = 1e-3   # Testing with one value of Regularization param\n",
    "\n",
    "## For limiting GPU memory usage: -- Added by Atul\n",
    "config = tf.ConfigProto()\n",
    "config.gpu_options.allow_growth=True\n",
    "\n",
    "with tf.Session(graph=graph, config=config) as session:\n",
    "    tf.initialize_all_variables().run()\n",
    "    print (\"Initialized\")\n",
    "    for step in range(num_steps):\n",
    "        # Pick an offset within the training data, which has been randomized.\n",
    "        # Note: we could use better randomization across epochs.\n",
    "        # offset = (step * batch_size) % (train_labels.shape[0] - batch_size)\n",
    "        offset = step % num_batches\n",
    "        # Generate a mini batch\n",
    "        batch_data   = train_dataset[offset:(offset + batch_size), :]\n",
    "        batch_labels = train_labels [offset:(offset + batch_size), :]\n",
    "        # Make a dict telling the session where to find the minibatch\n",
    "        feed_dict = { tf_train_dataset: batch_data,\n",
    "                     tf_train_labels: batch_labels,\n",
    "                     beta: beta_fixed }    # Regularization param from above\n",
    "        # Run the damn thing\n",
    "        _, loss_step, predictions = session.run(\n",
    "            [optimizer, loss, train_prediction], feed_dict=feed_dict)\n",
    "        # show progress\n",
    "        if (step % 5 == 0):\n",
    "            print(\"minibatch loss at step %d: %f\" % (step, loss_step))\n",
    "            print(\"minibatch accuracy : %.1f%%\" % accuracy(predictions, batch_labels))\n",
    "            print(\"validation accuracy: %.1f%%\" % accuracy(valid_prediction.eval(), valid_labels))\n",
    "    print(\"\\nTest accuracy: %.1f%%\" % accuracy(test_prediction.eval(), test_labels))"
   ]
  },
  {
   "cell_type": "markdown",
   "metadata": {},
   "source": [
    "As it shows, the generalization accuracy is terrible"
   ]
  },
  {
   "cell_type": "markdown",
   "metadata": {
    "colab_type": "text",
    "id": "ww3SCBUdlkRc"
   },
   "source": [
    "---\n",
    "Problem 3\n",
    "---------\n",
    "Introduce Dropout on the hidden layer of the neural network. Remember: Dropout should only be introduced during training, not evaluation, otherwise your evaluation results would be stochastic as well. TensorFlow provides `nn.dropout()` for that, but you have to make sure it's only inserted during training.\n",
    "\n",
    "What happens to our extreme overfitting case?\n",
    "\n",
    "---"
   ]
  },
  {
   "cell_type": "code",
   "execution_count": 46,
   "metadata": {
    "collapsed": false
   },
   "outputs": [],
   "source": [
    "## Let's intro a Dropout in Training\n",
    "## Let's define a 2-layer network with 1-hidden ReLU layer\n",
    "batch_size = 100\n",
    "num_hidden_nodes = 1024\n",
    "#dropout_percent = 0.5   # 50% dropout\n",
    "\n",
    "graph = tf.Graph()\n",
    "with graph.as_default():\n",
    "    with tf.device('/cpu:0'):   # for force CPU only (as my GPU mem was not enough)\n",
    "        # Input data\n",
    "        tf_train_dataset = tf.placeholder( tf.float32, \n",
    "                                         shape=(batch_size, image_size*image_size))\n",
    "        tf_train_labels  = tf.placeholder( tf.float32, shape=(batch_size, num_labels))\n",
    "        tf_valid_dataset = tf.constant(valid_dataset)\n",
    "        tf_test_dataset  = tf.constant(test_dataset)\n",
    "        # Beta for Regularization\n",
    "        beta             = tf.placeholder(tf.float32)\n",
    "        keep_prob        = tf.placeholder(tf.float32)   # for Dropout\n",
    "        \n",
    "        # Variables\n",
    "        weights1 = tf.Variable( \n",
    "            tf.truncated_normal([image_size*image_size, num_hidden_nodes]))\n",
    "        biases1  = tf.Variable(tf.zeros([num_hidden_nodes]))\n",
    "        weights2 = tf.Variable(\n",
    "            tf.truncated_normal([num_hidden_nodes, num_labels]))\n",
    "        biases2  = tf.Variable(tf.zeros([num_labels]))\n",
    "        \n",
    "        # Training computation.... with Dropout\n",
    "        layer1_out = tf.nn.relu(tf.matmul(tf_train_dataset, weights1) + biases1)\n",
    "        # Dropout some output of Layer 1... only on Training data!\n",
    "        drop1      = tf.nn.dropout(layer1_out, keep_prob)\n",
    "        logits     = tf.matmul(drop1, weights2) + biases2\n",
    "        loss = tf.reduce_mean(\n",
    "            tf.nn.softmax_cross_entropy_with_logits(logits, tf_train_labels)) + \\\n",
    "            beta * (tf.nn.l2_loss(weights1) + tf.nn.l2_loss(weights2))\n",
    "        \n",
    "        # Optimizer\n",
    "        optimizer = tf.train.GradientDescentOptimizer(0.5).minimize(loss)\n",
    "        \n",
    "        # Preductions for training / validation / test; no Dropout on Validation/Test\n",
    "        train_prediction  = tf.nn.softmax(logits)\n",
    "        layer1_validation = tf.nn.relu(tf.matmul(tf_valid_dataset, weights1) + biases1)\n",
    "        valid_prediction  = tf.nn.softmax(tf.matmul(layer1_validation, weights2) + biases2)\n",
    "        layer1_test       = tf.nn.relu(tf.matmul(tf_test_dataset, weights1) + biases1)\n",
    "        test_prediction   = tf.nn.softmax(tf.matmul(layer1_test, weights2) + biases2)\n"
   ]
  },
  {
   "cell_type": "code",
   "execution_count": 47,
   "metadata": {
    "collapsed": false
   },
   "outputs": [
    {
     "name": "stdout",
     "output_type": "stream",
     "text": [
      "Initialized\n",
      "minibatch loss at step 0: 793.473877\n",
      "minibatch accuracy : 10.0%\n",
      "validation accuracy: 24.9%\n",
      "minibatch loss at step 5: 349.102173\n",
      "minibatch accuracy : 90.0%\n",
      "validation accuracy: 59.6%\n",
      "minibatch loss at step 10: 318.344818\n",
      "minibatch accuracy : 96.0%\n",
      "validation accuracy: 61.8%\n",
      "minibatch loss at step 15: 312.235687\n",
      "minibatch accuracy : 99.0%\n",
      "validation accuracy: 65.7%\n",
      "minibatch loss at step 20: 309.521851\n",
      "minibatch accuracy : 100.0%\n",
      "validation accuracy: 66.3%\n",
      "minibatch loss at step 25: 309.919678\n",
      "minibatch accuracy : 98.0%\n",
      "validation accuracy: 65.4%\n",
      "minibatch loss at step 30: 307.983002\n",
      "minibatch accuracy : 99.0%\n",
      "validation accuracy: 64.5%\n",
      "minibatch loss at step 35: 305.733612\n",
      "minibatch accuracy : 99.0%\n",
      "validation accuracy: 64.6%\n",
      "minibatch loss at step 40: 303.655579\n",
      "minibatch accuracy : 99.0%\n",
      "validation accuracy: 64.1%\n",
      "minibatch loss at step 45: 301.962982\n",
      "minibatch accuracy : 100.0%\n",
      "validation accuracy: 64.0%\n",
      "minibatch loss at step 50: 301.093658\n",
      "minibatch accuracy : 99.0%\n",
      "validation accuracy: 63.4%\n",
      "minibatch loss at step 55: 298.978577\n",
      "minibatch accuracy : 100.0%\n",
      "validation accuracy: 64.5%\n",
      "minibatch loss at step 60: 300.978455\n",
      "minibatch accuracy : 99.0%\n",
      "validation accuracy: 66.2%\n",
      "minibatch loss at step 65: 296.009399\n",
      "minibatch accuracy : 100.0%\n",
      "validation accuracy: 66.2%\n",
      "minibatch loss at step 70: 294.532867\n",
      "minibatch accuracy : 100.0%\n",
      "validation accuracy: 66.2%\n",
      "minibatch loss at step 75: 293.063385\n",
      "minibatch accuracy : 100.0%\n",
      "validation accuracy: 66.2%\n",
      "minibatch loss at step 80: 291.601501\n",
      "minibatch accuracy : 100.0%\n",
      "validation accuracy: 66.2%\n",
      "minibatch loss at step 85: 290.155701\n",
      "minibatch accuracy : 100.0%\n",
      "validation accuracy: 65.7%\n",
      "minibatch loss at step 90: 288.715424\n",
      "minibatch accuracy : 100.0%\n",
      "validation accuracy: 65.8%\n",
      "minibatch loss at step 95: 288.766205\n",
      "minibatch accuracy : 99.0%\n",
      "validation accuracy: 66.4%\n",
      "minibatch loss at step 100: 287.545410\n",
      "minibatch accuracy : 99.0%\n",
      "validation accuracy: 66.4%\n",
      "\n",
      "Test accuracy: 73.3%\n"
     ]
    }
   ],
   "source": [
    "num_steps = 101   # few steps to show Overfitting\n",
    "num_batches = 5   # Using small batches to show Overfitting\n",
    "\n",
    "beta_fixed = 1e-3   # Testing with one value of Regularization param\n",
    "keep_prob_val  = 0.5    # 50% dropout\n",
    "\n",
    "## For limiting GPU memory usage: \n",
    "config = tf.ConfigProto()\n",
    "config.gpu_options.allow_growth=True\n",
    "\n",
    "with tf.Session(graph=graph, config=config) as session:\n",
    "    tf.initialize_all_variables().run()\n",
    "    print (\"Initialized\")\n",
    "    for step in range(num_steps):\n",
    "        # Pick an offset within the training data, which has been randomized.\n",
    "        # Note: we could use better randomization across epochs.\n",
    "        # offset = (step * batch_size) % (train_labels.shape[0] - batch_size)\n",
    "        offset = step % num_batches\n",
    "        # Generate a mini batch\n",
    "        batch_data   = train_dataset[offset:(offset + batch_size), :]\n",
    "        batch_labels = train_labels [offset:(offset + batch_size), :]\n",
    "        # Make a dict telling the session where to find the minibatch\n",
    "        feed_dict = { tf_train_dataset: batch_data,\n",
    "                     tf_train_labels: batch_labels,\n",
    "                     beta: beta_fixed,    # Reg param from above\n",
    "                     keep_prob: keep_prob_val}    # dropout\n",
    "        # Run the damn thing\n",
    "        _, loss_step, predictions = session.run(\n",
    "            [optimizer, loss, train_prediction], feed_dict=feed_dict)\n",
    "        # show progress\n",
    "        if (step % 5 == 0):\n",
    "            print(\"minibatch loss at step %d: %f\" % (step, loss_step))\n",
    "            print(\"minibatch accuracy : %.1f%%\" % accuracy(predictions, batch_labels))\n",
    "            print(\"validation accuracy: %.1f%%\" % accuracy(valid_prediction.eval(), valid_labels))\n",
    "    print(\"\\nTest accuracy: %.1f%%\" % accuracy(test_prediction.eval(), test_labels))"
   ]
  },
  {
   "cell_type": "markdown",
   "metadata": {},
   "source": [
    "Gets better accuracy with some 50% Dropout... but still low bcos we did very few batches."
   ]
  },
  {
   "cell_type": "code",
   "execution_count": null,
   "metadata": {
    "collapsed": true
   },
   "outputs": [],
   "source": []
  },
  {
   "cell_type": "markdown",
   "metadata": {
    "colab_type": "text",
    "id": "-b1hTz3VWZjw"
   },
   "source": [
    "---\n",
    "Problem 4\n",
    "---------\n",
    "\n",
    "Try to get the best performance you can using a multi-layer model! The best reported test accuracy using a deep network is [97.1%](http://yaroslavvb.blogspot.com/2011/09/notmnist-dataset.html?showComment=1391023266211#c8758720086795711595).\n",
    "\n",
    "One avenue you can explore is to add multiple layers.\n",
    "\n",
    "Another one is to use learning rate decay:\n",
    "\n",
    "    global_step = tf.Variable(0)  # count the number of steps taken.\n",
    "    learning_rate = tf.train.exponential_decay(0.5, global_step, ...)\n",
    "    optimizer = tf.train.GradientDescentOptimizer(learning_rate).minimize(loss, global_step=global_step)\n",
    " \n",
    " ---\n"
   ]
  },
  {
   "cell_type": "markdown",
   "metadata": {},
   "source": [
    "Let's try a deeper network with:\n",
    "- 3 layers (2 hidden)\n",
    "- Regularization\n",
    "- Dropout"
   ]
  },
  {
   "cell_type": "code",
   "execution_count": 48,
   "metadata": {
    "collapsed": true
   },
   "outputs": [],
   "source": [
    "## Let's define a 3-layer network with 2-hidden ReLU layer\n",
    "batch_size = 100\n",
    "num_hidden_nodes1 = 1024\n",
    "num_hidden_nodes2 = 256\n",
    "beta_fixed = 0.00125892541179   # Best Reg param we found. Or else just 1e-3\n",
    "\n",
    "graph = tf.Graph()\n",
    "with graph.as_default():\n",
    "    with tf.device('/cpu:0'):   # for force CPU only (as my GPU mem was not enough)\n",
    "        # Input data\n",
    "        tf_train_dataset = tf.placeholder( tf.float32, \n",
    "                                         shape=(batch_size, image_size*image_size))\n",
    "        tf_train_labels  = tf.placeholder( tf.float32, shape=(batch_size, num_labels))\n",
    "        tf_valid_dataset = tf.constant(valid_dataset)\n",
    "        tf_test_dataset  = tf.constant(test_dataset)\n",
    "        # Beta for Regularization\n",
    "        beta             = tf.placeholder(tf.float32)\n",
    "        # Global Step\n",
    "        global_step      = tf.Variable(0)\n",
    "        \n",
    "        # Variables\n",
    "        weights1 = tf.Variable( \n",
    "            tf.truncated_normal([image_size*image_size, num_hidden_nodes1],\n",
    "                               stddev=np.sqrt(2.0 / (image_size*image_size)) )\n",
    "        )\n",
    "        biases1  = tf.Variable(tf.zeros([num_hidden_nodes1]))\n",
    "        weights2 = tf.Variable(\n",
    "            tf.truncated_normal([num_hidden_nodes1, num_hidden_nodes2],\n",
    "                               stddev=np.sqrt(2.0/num_hidden_nodes1))\n",
    "        )\n",
    "        biases2  = tf.Variable(tf.zeros([num_hidden_nodes2]))\n",
    "        weights3 = tf.Variable(\n",
    "            tf.truncated_normal([num_hidden_nodes2, num_labels],\n",
    "                               stddev=np.sqrt(2.0/num_hidden_nodes2))\n",
    "            )\n",
    "        biases3  = tf.Variable(tf.zeros([num_labels]))\n",
    "        \n",
    "        # Training computation - Layer1\n",
    "        layer1_out = tf.nn.relu(tf.matmul(tf_train_dataset, weights1) + biases1)\n",
    "        # Layer 2\n",
    "        layer2_out = tf.nn.relu(tf.matmul(layer1_out, weights2) + biases2)\n",
    "        # Logits \n",
    "        logits = tf.matmul(layer2_out, weights3) + biases3\n",
    "        # Loss\n",
    "        loss = tf.reduce_mean(\n",
    "            tf.nn.softmax_cross_entropy_with_logits(logits, tf_train_labels)) + \\\n",
    "            beta * (tf.nn.l2_loss(weights1) + tf.nn.l2_loss(weights2) + tf.nn.l2_loss(weights3))\n",
    "        \n",
    "        # Optimizer\n",
    "        optimizer = tf.train.GradientDescentOptimizer(0.5).minimize(loss)\n",
    "        \n",
    "        # Preductions for training / validation / test\n",
    "        train_prediction  = tf.nn.softmax(logits)\n",
    "        layer1_validation = tf.nn.relu(tf.matmul(tf_valid_dataset, weights1) + biases1)\n",
    "        layer2_validation = tf.nn.relu(tf.matmul(layer1_validation, weights2) + biases2)\n",
    "        valid_prediction  = tf.nn.softmax(tf.matmul(layer2_validation, weights3) + biases3)\n",
    "        \n",
    "        layer1_test       = tf.nn.relu(tf.matmul(tf_test_dataset, weights1) + biases1)\n",
    "        layer2_test       = tf.nn.relu(tf.matmul(layer1_test, weights2) + biases2)\n",
    "        test_prediction   = tf.nn.softmax(tf.matmul(layer2_test, weights3) + biases3)\n"
   ]
  },
  {
   "cell_type": "code",
   "execution_count": 49,
   "metadata": {
    "collapsed": false
   },
   "outputs": [
    {
     "name": "stdout",
     "output_type": "stream",
     "text": [
      "Initialized, with reg: 0.001\n",
      "minibatch loss at step 0: 3.426083\n",
      "minibatch accuracy : 7.0%\n",
      "validation accuracy: 34.7%\n",
      "minibatch loss at step 500: 1.262513\n",
      "minibatch accuracy : 77.0%\n",
      "validation accuracy: 85.0%\n",
      "minibatch loss at step 1000: 1.025840\n",
      "minibatch accuracy : 80.0%\n",
      "validation accuracy: 86.4%\n",
      "minibatch loss at step 1500: 0.906518\n",
      "minibatch accuracy : 81.0%\n",
      "validation accuracy: 86.6%\n",
      "minibatch loss at step 2000: 0.691344\n",
      "minibatch accuracy : 86.0%\n",
      "validation accuracy: 87.6%\n",
      "minibatch loss at step 2500: 0.400855\n",
      "minibatch accuracy : 94.0%\n",
      "validation accuracy: 87.4%\n",
      "minibatch loss at step 3000: 0.623376\n",
      "minibatch accuracy : 89.0%\n",
      "validation accuracy: 87.7%\n",
      "minibatch loss at step 3500: 0.525751\n",
      "minibatch accuracy : 90.0%\n",
      "validation accuracy: 88.3%\n",
      "minibatch loss at step 4000: 0.481462\n",
      "minibatch accuracy : 90.0%\n",
      "validation accuracy: 87.5%\n",
      "minibatch loss at step 4500: 0.514146\n",
      "minibatch accuracy : 86.0%\n",
      "validation accuracy: 87.7%\n",
      "minibatch loss at step 5000: 0.487243\n",
      "minibatch accuracy : 91.0%\n",
      "validation accuracy: 88.7%\n",
      "\n",
      "Test accuracy: 94.7%\n"
     ]
    }
   ],
   "source": [
    "num_steps = 5001\n",
    "\n",
    "\n",
    "beta_fixed = 1e-3   # Testing with one value of Regularization param\n",
    "\n",
    "## For limiting GPU memory usage: \n",
    "config = tf.ConfigProto()\n",
    "config.gpu_options.allow_growth=True\n",
    "\n",
    "with tf.Session(graph=graph, config=config) as session:\n",
    "    tf.initialize_all_variables().run()\n",
    "    print (\"Initialized, with reg:\", beta_fixed)\n",
    "    for step in range(num_steps):\n",
    "        # Pick an offset within the training data, which has been randomized.\n",
    "        # Note: we could use better randomization across epochs.\n",
    "        offset = (step * batch_size) % (train_labels.shape[0] - batch_size)\n",
    "        # Generate a mini batch\n",
    "        batch_data   = train_dataset[offset:(offset + batch_size), :]\n",
    "        batch_labels = train_labels [offset:(offset + batch_size), :]\n",
    "        # Make a dict telling the session where to find the minibatch\n",
    "        feed_dict = { tf_train_dataset: batch_data,\n",
    "                     tf_train_labels: batch_labels,\n",
    "                     beta: beta_fixed }    # Regularization param from above\n",
    "        # Run the damn thing\n",
    "        _, loss_step, predictions = session.run(\n",
    "            [optimizer, loss, train_prediction], feed_dict=feed_dict)\n",
    "        # show progress\n",
    "        if (step % 500 == 0):\n",
    "            print(\"minibatch loss at step %d: %f\" % (step, loss_step))\n",
    "            print(\"minibatch accuracy : %.1f%%\" % accuracy(predictions, batch_labels))\n",
    "            print(\"validation accuracy: %.1f%%\" % accuracy(valid_prediction.eval(), valid_labels))\n",
    "    print(\"\\nTest accuracy: %.1f%%\" % accuracy(test_prediction.eval(), test_labels))"
   ]
  },
  {
   "cell_type": "markdown",
   "metadata": {},
   "source": [
    "Already gotten good results. Let's try another layer, with Dropout now"
   ]
  },
  {
   "cell_type": "code",
   "execution_count": 50,
   "metadata": {
    "collapsed": true
   },
   "outputs": [],
   "source": [
    "## Let's try a larger network\n",
    "\n",
    "## Let's define a 4-layer network with 3-hidden ReLU layer\n",
    "batch_size = 100\n",
    "num_hidden_nodes1 = 1024\n",
    "num_hidden_nodes2 = 512\n",
    "num_hidden_nodes3 = 256\n",
    "beta_fixed = 0.00125892541179   # Best Reg param we found. Or else just 1e-3\n",
    "\n",
    "graph = tf.Graph()\n",
    "with graph.as_default():\n",
    "    with tf.device('/cpu:0'):   # for force CPU only (as my GPU mem was not enough)\n",
    "        # Input data\n",
    "        tf_train_dataset = tf.placeholder( tf.float32, \n",
    "                                         shape=(batch_size, image_size*image_size))\n",
    "        tf_train_labels  = tf.placeholder( tf.float32, shape=(batch_size, num_labels))\n",
    "        tf_valid_dataset = tf.constant(valid_dataset)\n",
    "        tf_test_dataset  = tf.constant(test_dataset)\n",
    "        # Beta for Regularization\n",
    "        beta             = tf.placeholder(tf.float32)\n",
    "        # Global Step\n",
    "        global_step      = tf.Variable(0)\n",
    "        \n",
    "        ## Variables\n",
    "        # layer1\n",
    "        weights1 = tf.Variable( \n",
    "            tf.truncated_normal([image_size*image_size, num_hidden_nodes1],\n",
    "                               stddev=np.sqrt(2.0 / (image_size*image_size)) )\n",
    "        )\n",
    "        biases1  = tf.Variable(tf.zeros([num_hidden_nodes1]))\n",
    "        # layer2\n",
    "        weights2 = tf.Variable(\n",
    "            tf.truncated_normal([num_hidden_nodes1, num_hidden_nodes2],\n",
    "                               stddev=np.sqrt(2.0/num_hidden_nodes1))\n",
    "        )\n",
    "        biases2  = tf.Variable(tf.zeros([num_hidden_nodes2]))\n",
    "        # layer3\n",
    "        weights3 = tf.Variable(\n",
    "            tf.truncated_normal([num_hidden_nodes2, num_hidden_nodes3],\n",
    "                               stddev=np.sqrt(2.0/num_hidden_nodes2))\n",
    "            )\n",
    "        biases3  = tf.Variable(tf.zeros([num_hidden_nodes3]))\n",
    "        # layer4\n",
    "        weights4 = tf.Variable(\n",
    "            tf.truncated_normal([num_hidden_nodes3, num_labels],\n",
    "                               stddev=np.sqrt(2.0/num_hidden_nodes3))\n",
    "            )\n",
    "        biases4  = tf.Variable(tf.zeros([num_labels]))\n",
    "        \n",
    "        # Training computation - Layer1\n",
    "        layer1_out = tf.nn.relu(tf.matmul(tf_train_dataset, weights1) + biases1)\n",
    "        # Layer 2\n",
    "        layer2_out = tf.nn.relu(tf.matmul(layer1_out, weights2) + biases2)\n",
    "        # Layer 3\n",
    "        layer3_out = tf.nn.relu(tf.matmul(layer2_out, weights3) + biases3)\n",
    "        # Logits \n",
    "        logits = tf.matmul(layer3_out, weights4) + biases4\n",
    "        # Loss\n",
    "        loss = tf.reduce_mean(\n",
    "            tf.nn.softmax_cross_entropy_with_logits(logits, tf_train_labels)) + \\\n",
    "            beta * (tf.nn.l2_loss(weights1) + tf.nn.l2_loss(weights2) + tf.nn.l2_loss(weights3) + tf.nn.l2_loss(weights4))\n",
    "        \n",
    "        # Optimizer, with Learning Rate schedule\n",
    "        learning_rate = tf.train.exponential_decay(0.5, global_step, 4000, 0.65, staircase=True)\n",
    "        optimizer = tf.train.GradientDescentOptimizer(learning_rate).minimize(loss)\n",
    "        \n",
    "        # Preductions for training / validation / test\n",
    "        train_prediction  = tf.nn.softmax(logits)\n",
    "        layer1_validation = tf.nn.relu(tf.matmul(tf_valid_dataset, weights1) + biases1)\n",
    "        layer2_validation = tf.nn.relu(tf.matmul(layer1_validation, weights2) + biases2)\n",
    "        layer3_validation = tf.nn.relu(tf.matmul(layer2_validation, weights3) + biases3)\n",
    "        valid_prediction  = tf.nn.softmax(tf.matmul(layer3_validation, weights4) + biases4)\n",
    "        \n",
    "        layer1_test       = tf.nn.relu(tf.matmul(tf_test_dataset, weights1) + biases1)\n",
    "        layer2_test       = tf.nn.relu(tf.matmul(layer1_test, weights2) + biases2)\n",
    "        layer3_test       = tf.nn.relu(tf.matmul(layer2_test, weights3) + biases3)\n",
    "        test_prediction   = tf.nn.softmax(tf.matmul(layer3_test, weights4) + biases4)\n"
   ]
  },
  {
   "cell_type": "code",
   "execution_count": 51,
   "metadata": {
    "collapsed": false
   },
   "outputs": [
    {
     "name": "stdout",
     "output_type": "stream",
     "text": [
      "Initialized, with reg: 0.001\n",
      "minibatch loss at step 0: 3.721385\n",
      "minibatch accuracy : 13\n",
      "validation accuracy: 19.7\n",
      "minibatch loss at step 500: 1.494225\n",
      "minibatch accuracy : 80\n",
      "validation accuracy: 84.63\n",
      "minibatch loss at step 1000: 1.156099\n",
      "minibatch accuracy : 83\n",
      "validation accuracy: 86.77\n",
      "minibatch loss at step 1500: 1.025510\n",
      "minibatch accuracy : 80\n",
      "validation accuracy: 86.41\n",
      "minibatch loss at step 2000: 0.738874\n",
      "minibatch accuracy : 89\n",
      "validation accuracy: 86.99\n",
      "minibatch loss at step 2500: 0.457955\n",
      "minibatch accuracy : 93\n",
      "validation accuracy: 87.34\n",
      "minibatch loss at step 3000: 0.639746\n",
      "minibatch accuracy : 89\n",
      "validation accuracy: 87.59\n",
      "minibatch loss at step 3500: 0.557891\n",
      "minibatch accuracy : 87\n",
      "validation accuracy: 88.26\n",
      "minibatch loss at step 4000: 0.527442\n",
      "minibatch accuracy : 88\n",
      "validation accuracy: 87.48\n",
      "minibatch loss at step 4500: 0.543994\n",
      "minibatch accuracy : 87\n",
      "validation accuracy: 87.68\n",
      "minibatch loss at step 5000: 0.484738\n",
      "minibatch accuracy : 93\n",
      "validation accuracy: 88.33\n",
      "minibatch loss at step 5500: 0.458188\n",
      "minibatch accuracy : 92\n",
      "validation accuracy: 85.3\n",
      "minibatch loss at step 6000: 0.425169\n",
      "minibatch accuracy : 92\n",
      "validation accuracy: 87.76\n",
      "minibatch loss at step 6500: 0.381000\n",
      "minibatch accuracy : 93\n",
      "validation accuracy: 88.09\n",
      "minibatch loss at step 7000: 0.337569\n",
      "minibatch accuracy : 95\n",
      "validation accuracy: 88.62\n",
      "minibatch loss at step 7500: 0.425215\n",
      "minibatch accuracy : 90\n",
      "validation accuracy: 87.06\n",
      "minibatch loss at step 8000: 0.468743\n",
      "minibatch accuracy : 89\n",
      "validation accuracy: 87.69\n",
      "minibatch loss at step 8500: 0.630635\n",
      "minibatch accuracy : 84\n",
      "validation accuracy: 87.9\n",
      "minibatch loss at step 9000: 0.422280\n",
      "minibatch accuracy : 91\n",
      "validation accuracy: 88.5\n",
      "minibatch loss at step 9500: 0.531500\n",
      "minibatch accuracy : 86\n",
      "validation accuracy: 88.08\n",
      "minibatch loss at step 10000: 0.536900\n",
      "minibatch accuracy : 89\n",
      "validation accuracy: 88.12\n",
      "minibatch loss at step 10500: 0.652748\n",
      "minibatch accuracy : 84\n",
      "validation accuracy: 87.75\n",
      "minibatch loss at step 11000: 0.487509\n",
      "minibatch accuracy : 87\n",
      "validation accuracy: 88.42\n",
      "minibatch loss at step 11500: 0.578097\n",
      "minibatch accuracy : 84\n",
      "validation accuracy: 86.42\n",
      "minibatch loss at step 12000: 0.421849\n",
      "minibatch accuracy : 89\n",
      "validation accuracy: 88.32\n",
      "minibatch loss at step 12500: 0.478495\n",
      "minibatch accuracy : 89\n",
      "validation accuracy: 86.91\n",
      "minibatch loss at step 13000: 0.480607\n",
      "minibatch accuracy : 91\n",
      "validation accuracy: 88.21\n",
      "minibatch loss at step 13500: 0.620631\n",
      "minibatch accuracy : 84\n",
      "validation accuracy: 85.38\n",
      "minibatch loss at step 14000: 0.514108\n",
      "minibatch accuracy : 88\n",
      "validation accuracy: 87.74\n",
      "minibatch loss at step 14500: 0.468657\n",
      "minibatch accuracy : 93\n",
      "validation accuracy: 87.24\n",
      "minibatch loss at step 15000: 0.350874\n",
      "minibatch accuracy : 93\n",
      "validation accuracy: 87.75\n",
      "\n",
      "Test accuracy: 94.04\n"
     ]
    }
   ],
   "source": [
    "## Train and run the network\n",
    "num_steps = 15001\n",
    "\n",
    "beta_fixed = 1e-3   # Testing with one value of Regularization param\n",
    "\n",
    "## For limiting GPU memory usage: \n",
    "config = tf.ConfigProto()\n",
    "config.gpu_options.allow_growth=True\n",
    "\n",
    "with tf.Session(graph=graph, config=config) as session:\n",
    "    tf.initialize_all_variables().run()\n",
    "    print (\"Initialized, with reg:\", beta_fixed)\n",
    "    for step in range(num_steps):\n",
    "        # Pick an offset within the training data, which has been randomized.\n",
    "        # Note: we could use better randomization across epochs.\n",
    "        offset = (step * batch_size) % (train_labels.shape[0] - batch_size)\n",
    "        # Generate a mini batch\n",
    "        batch_data   = train_dataset[offset:(offset + batch_size), :]\n",
    "        batch_labels = train_labels [offset:(offset + batch_size), :]\n",
    "        # Make a dict telling the session where to find the minibatch\n",
    "        feed_dict = { tf_train_dataset: batch_data,\n",
    "                     tf_train_labels: batch_labels,\n",
    "                     beta: beta_fixed }    # Regularization param from above\n",
    "        # Run the damn thing\n",
    "        _, loss_step, predictions = session.run(\n",
    "            [optimizer, loss, train_prediction], feed_dict=feed_dict)\n",
    "        # show progress\n",
    "        if (step % 500 == 0):\n",
    "            print(\"minibatch loss at step %d: %f\" % (step, loss_step))\n",
    "            print(\"minibatch accuracy : %g\" % accuracy(predictions, batch_labels))\n",
    "            print(\"validation accuracy: %g\" % accuracy(valid_prediction.eval(), valid_labels))\n",
    "    print(\"\\nTest accuracy: %g\" % accuracy(test_prediction.eval(), test_labels))"
   ]
  },
  {
   "cell_type": "markdown",
   "metadata": {},
   "source": [
    "Let's try yet another - this time with Dropout\n"
   ]
  },
  {
   "cell_type": "code",
   "execution_count": 73,
   "metadata": {
    "collapsed": true
   },
   "outputs": [],
   "source": [
    "## Let's try a larger network\n",
    "\n",
    "## Let's define a 4-layer network with 3-hidden ReLU layer\n",
    "batch_size = 128\n",
    "num_hidden_nodes1 = 1024\n",
    "num_hidden_nodes2 = 512\n",
    "num_hidden_nodes3 = 128\n",
    "beta_fixed = 0.00125892541179   # Best Reg param we found. Or else just 1e-3\n",
    "\n",
    "graph = tf.Graph()\n",
    "with graph.as_default():\n",
    "    with tf.device('/cpu:0'):   # for force CPU only (as my GPU mem was not enough)\n",
    "        # Input data\n",
    "        tf_train_dataset = tf.placeholder( tf.float32, \n",
    "                                         shape=(batch_size, image_size*image_size))\n",
    "        tf_train_labels  = tf.placeholder( tf.float32, shape=(batch_size, num_labels))\n",
    "        tf_valid_dataset = tf.constant(valid_dataset)\n",
    "        tf_test_dataset  = tf.constant(test_dataset)\n",
    "        # Beta for Regularization\n",
    "        beta             = tf.placeholder(tf.float32)\n",
    "        # Global Step\n",
    "        global_step      = tf.Variable(0)\n",
    "        keep_prob        = tf.placeholder(tf.float32)   # for Dropout\n",
    "        \n",
    "        ## Variables\n",
    "        # layer1\n",
    "        weights1 = tf.Variable( \n",
    "            tf.truncated_normal([image_size*image_size, num_hidden_nodes1],\n",
    "                               stddev=np.sqrt(2.0 / (image_size*image_size)) )\n",
    "        )\n",
    "        biases1  = tf.Variable(tf.zeros([num_hidden_nodes1]))\n",
    "        # layer2\n",
    "        weights2 = tf.Variable(\n",
    "            tf.truncated_normal([num_hidden_nodes1, num_hidden_nodes2],\n",
    "                               stddev=np.sqrt(2.0/num_hidden_nodes1))\n",
    "        )\n",
    "        biases2  = tf.Variable(tf.zeros([num_hidden_nodes2]))\n",
    "        # layer3\n",
    "        weights3 = tf.Variable(\n",
    "            tf.truncated_normal([num_hidden_nodes2, num_hidden_nodes3],\n",
    "                               stddev=np.sqrt(2.0/num_hidden_nodes2))\n",
    "            )\n",
    "        biases3  = tf.Variable(tf.zeros([num_hidden_nodes3]))\n",
    "        # layer4\n",
    "        weights4 = tf.Variable(\n",
    "            tf.truncated_normal([num_hidden_nodes3, num_labels],\n",
    "                               stddev=np.sqrt(2.0/num_hidden_nodes3))\n",
    "            )\n",
    "        biases4  = tf.Variable(tf.zeros([num_labels]))\n",
    "        \n",
    "        # Training computation - Layer1\n",
    "        layer1_out = tf.nn.relu(tf.matmul(tf_train_dataset, weights1) + biases1)\n",
    "        drop1      = tf.nn.dropout(layer1_out, keep_prob)   # Dropout 1\n",
    "        # Layer 2\n",
    "        layer2_out = tf.nn.relu(tf.matmul(drop1, weights2) + biases2)\n",
    "        drop2      = tf.nn.dropout(layer2_out, keep_prob)   # Dropout 2\n",
    "        # Layer 3\n",
    "        layer3_out = tf.nn.relu(tf.matmul(drop2, weights3) + biases3)\n",
    "        drop3      = tf.nn.dropout(layer3_out, keep_prob)   # Dropout 2\n",
    "        # Logits \n",
    "        logits = tf.matmul(drop3, weights4) + biases4\n",
    "        # Loss\n",
    "        loss = tf.reduce_mean(\n",
    "            tf.nn.softmax_cross_entropy_with_logits(logits, tf_train_labels)) + \\\n",
    "            beta * (tf.nn.l2_loss(weights1) + tf.nn.l2_loss(weights2) + tf.nn.l2_loss(weights3) + tf.nn.l2_loss(weights4))\n",
    "        \n",
    "        # Optimizer, with Learning Rate schedule\n",
    "        learning_rate = tf.train.exponential_decay(0.5, global_step, 2000, 0.7, staircase=False)\n",
    "        optimizer = tf.train.GradientDescentOptimizer(learning_rate).minimize(loss)\n",
    "        \n",
    "        # Preductions for training / validation / test\n",
    "        train_prediction  = tf.nn.softmax(logits)\n",
    "        layer1_validation = tf.nn.relu(tf.matmul(tf_valid_dataset, weights1) + biases1)\n",
    "        layer2_validation = tf.nn.relu(tf.matmul(layer1_validation, weights2) + biases2)\n",
    "        layer3_validation = tf.nn.relu(tf.matmul(layer2_validation, weights3) + biases3)\n",
    "        valid_prediction  = tf.nn.softmax(tf.matmul(layer3_validation, weights4) + biases4)\n",
    "        \n",
    "        layer1_test       = tf.nn.relu(tf.matmul(tf_test_dataset, weights1) + biases1)\n",
    "        layer2_test       = tf.nn.relu(tf.matmul(layer1_test, weights2) + biases2)\n",
    "        layer3_test       = tf.nn.relu(tf.matmul(layer2_test, weights3) + biases3)\n",
    "        test_prediction   = tf.nn.softmax(tf.matmul(layer3_test, weights4) + biases4)\n"
   ]
  },
  {
   "cell_type": "code",
   "execution_count": 74,
   "metadata": {
    "collapsed": false
   },
   "outputs": [
    {
     "name": "stdout",
     "output_type": "stream",
     "text": [
      "Initialized, with reg: 0.001\n",
      "minibatch loss at step 0: 4.007266\n",
      "minibatch accuracy : 9.375\n",
      "validation accuracy: 15.58\n",
      "minibatch loss at step 500: 1.385044\n",
      "minibatch accuracy : 85.9375\n",
      "validation accuracy: 83.95\n",
      "minibatch loss at step 1000: 1.159193\n",
      "minibatch accuracy : 85.1562\n",
      "validation accuracy: 84.91\n",
      "minibatch loss at step 1500: 0.814913\n",
      "minibatch accuracy : 88.2812\n",
      "validation accuracy: 85.53\n",
      "minibatch loss at step 2000: 0.694715\n",
      "minibatch accuracy : 91.4062\n",
      "validation accuracy: 85.64\n",
      "minibatch loss at step 2500: 0.679360\n",
      "minibatch accuracy : 86.7188\n",
      "validation accuracy: 86.5\n",
      "minibatch loss at step 3000: 0.749631\n",
      "minibatch accuracy : 85.9375\n",
      "validation accuracy: 85.91\n",
      "minibatch loss at step 3500: 0.733149\n",
      "minibatch accuracy : 82.0312\n",
      "validation accuracy: 86.51\n",
      "minibatch loss at step 4000: 0.630454\n",
      "minibatch accuracy : 88.2812\n",
      "validation accuracy: 86.51\n",
      "minibatch loss at step 4500: 0.604914\n",
      "minibatch accuracy : 87.5\n",
      "validation accuracy: 86.44\n",
      "minibatch loss at step 5000: 0.650062\n",
      "minibatch accuracy : 87.5\n",
      "validation accuracy: 86.83\n",
      "minibatch loss at step 5500: 0.725694\n",
      "minibatch accuracy : 82.8125\n",
      "validation accuracy: 86.47\n",
      "minibatch loss at step 6000: 0.694435\n",
      "minibatch accuracy : 84.375\n",
      "validation accuracy: 86.8\n",
      "minibatch loss at step 6500: 0.573638\n",
      "minibatch accuracy : 89.0625\n",
      "validation accuracy: 86.99\n",
      "minibatch loss at step 7000: 0.698751\n",
      "minibatch accuracy : 83.5938\n",
      "validation accuracy: 87.24\n",
      "minibatch loss at step 7500: 0.809067\n",
      "minibatch accuracy : 81.25\n",
      "validation accuracy: 87.09\n",
      "minibatch loss at step 8000: 0.970625\n",
      "minibatch accuracy : 77.3438\n",
      "validation accuracy: 86.62\n",
      "minibatch loss at step 8500: 0.586962\n",
      "minibatch accuracy : 89.8438\n",
      "validation accuracy: 86.87\n",
      "minibatch loss at step 9000: 0.689502\n",
      "minibatch accuracy : 86.7188\n",
      "validation accuracy: 87.04\n",
      "minibatch loss at step 9500: 0.726133\n",
      "minibatch accuracy : 84.375\n",
      "validation accuracy: 87.23\n",
      "minibatch loss at step 10000: 0.698362\n",
      "minibatch accuracy : 82.0312\n",
      "validation accuracy: 87.42\n",
      "\n",
      "Test accuracy: 93.48\n"
     ]
    }
   ],
   "source": [
    "## Train and run the network\n",
    "num_steps = 10001\n",
    "\n",
    "beta_fixed = 1e-3   # Testing with one value of Regularization param\n",
    "keep_prob_val = 0.5 # Dropout percentage\n",
    "\n",
    "step_vals = []   # step number store\n",
    "test_acc_vals = []  # Test accuracy store\n",
    "val_acc_vals  = []  # Validation acc store\n",
    "\n",
    "## For limiting GPU memory usage: \n",
    "config = tf.ConfigProto()\n",
    "config.gpu_options.allow_growth=True\n",
    "\n",
    "with tf.Session(graph=graph, config=config) as session:\n",
    "    tf.initialize_all_variables().run()\n",
    "    print (\"Initialized, with reg:\", beta_fixed)\n",
    "    for step in range(num_steps):\n",
    "        # Pick an offset within the training data, which has been randomized.\n",
    "        # Note: we could use better randomization across epochs.\n",
    "        offset = (step * batch_size) % (train_labels.shape[0] - batch_size)\n",
    "        # Generate a mini batch\n",
    "        batch_data   = train_dataset[offset:(offset + batch_size), :]\n",
    "        batch_labels = train_labels [offset:(offset + batch_size), :]\n",
    "        # Make a dict telling the session where to find the minibatch\n",
    "        feed_dict = { tf_train_dataset: batch_data,\n",
    "                     tf_train_labels: batch_labels,\n",
    "                     beta: beta_fixed,            # Regul param\n",
    "                     keep_prob: keep_prob_val}    # Dropout from above\n",
    "        # Run the damn thing\n",
    "        _, loss_step, predictions = session.run(\n",
    "            [optimizer, loss, train_prediction], feed_dict=feed_dict)\n",
    "        # show progress  \n",
    "        if (step % 500 == 0):\n",
    "            print(\"minibatch loss at step %d: %f\" % (step, loss_step))\n",
    "            val_acc  = accuracy(valid_prediction.eval(), valid_labels)\n",
    "            test_acc = accuracy(test_prediction.eval(), test_labels)\n",
    "            print(\"minibatch accuracy : %g\" % accuracy(predictions, batch_labels))\n",
    "            print(\"validation accuracy: %g\" % val_acc)\n",
    "            step_vals.append(step)\n",
    "            val_acc_vals.append(val_acc)\n",
    "            test_acc_vals.append(test_acc)\n",
    "            \n",
    "    print(\"\\nTest accuracy: %g\" % test_acc)"
   ]
  },
  {
   "cell_type": "code",
   "execution_count": 61,
   "metadata": {
    "collapsed": false
   },
   "outputs": [
    {
     "data": {
      "image/png": "[encoded data removed]",
      "text/plain": [
       "<matplotlib.figure.Figure at 0x137794f28>"
      ]
     },
     "metadata": {},
     "output_type": "display_data"
    }
   ],
   "source": [
    "# Try plotting\n",
    "plt.plot(step_vals, test_acc_vals, '-')\n",
    "plt.plot(step_vals, val_acc_vals, '--')\n",
    "plt.show()"
   ]
  },
  {
   "cell_type": "code",
   "execution_count": 62,
   "metadata": {
    "collapsed": false
   },
   "outputs": [
    {
     "name": "stdout",
     "output_type": "stream",
     "text": [
      "max test:  93.97\n"
     ]
    }
   ],
   "source": [
    "m = myargmax(test_acc_vals)\n",
    "print('max test: ', test_acc_vals[m])"
   ]
  },
  {
   "cell_type": "code",
   "execution_count": null,
   "metadata": {
    "collapsed": true
   },
   "outputs": [],
   "source": []
  }
 ],
 "metadata": {
  "colab": {
   "default_view": {},
   "name": "3_regularization.ipynb",
   "provenance": [],
   "version": "0.3.2",
   "views": {}
  },
  "kernelspec": {
   "display_name": "Python 3",
   "language": "python",
   "name": "python3"
  },
  "language_info": {
   "codemirror_mode": {
    "name": "ipython",
    "version": 3
   },
   "file_extension": ".py",
   "mimetype": "text/x-python",
   "name": "python",
   "nbconvert_exporter": "python",
   "pygments_lexer": "ipython3",
   "version": "3.5.2"
  }
 },
 "nbformat": 4,
 "nbformat_minor": 0
}
