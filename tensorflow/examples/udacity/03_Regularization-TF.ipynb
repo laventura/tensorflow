{
 "cells": [
  {
   "cell_type": "markdown",
   "metadata": {},
   "source": [
    "# Deep Learning\n",
    "## Assignment 3\n",
    "Previously in 2_fullyconnected.ipynb, you trained a logistic regression and a neural network model.\n",
    "The goal of this assignment is to explore regularization techniques."
   ]
  },
  {
   "cell_type": "code",
   "execution_count": 2,
   "metadata": {
    "collapsed": true
   },
   "outputs": [],
   "source": [
    "# These are all the modules we'll be using later. Make sure you can import them\n",
    "# before proceeding further.\n",
    "from __future__ import print_function\n",
    "import numpy as np\n",
    "import tensorflow as tf\n",
    "from six.moves import cPickle as pickle\n",
    "\n",
    "import matplotlib.pyplot as plt\n",
    "%matplotlib inline \n"
   ]
  },
  {
   "cell_type": "markdown",
   "metadata": {},
   "source": [
    "First reload the data we generated in _notmist.ipynb_."
   ]
  },
  {
   "cell_type": "code",
   "execution_count": 3,
   "metadata": {
    "collapsed": false
   },
   "outputs": [
    {
     "name": "stdout",
     "output_type": "stream",
     "text": [
      "Training set (200000, 28, 28) (200000,)\n",
      "Validation set (10000, 28, 28) (10000,)\n",
      "Test set (10000, 28, 28) (10000,)\n"
     ]
    }
   ],
   "source": [
    "pickle_file = 'notMNIST.pickle'\n",
    "\n",
    "with open(pickle_file, 'rb') as f:\n",
    "  save = pickle.load(f)\n",
    "  train_dataset = save['train_dataset']\n",
    "  train_labels = save['train_labels']\n",
    "  valid_dataset = save['valid_dataset']\n",
    "  valid_labels = save['valid_labels']\n",
    "  test_dataset = save['test_dataset']\n",
    "  test_labels = save['test_labels']\n",
    "  del save  # hint to help gc free up memory\n",
    "  print('Training set', train_dataset.shape, train_labels.shape)\n",
    "  print('Validation set', valid_dataset.shape, valid_labels.shape)\n",
    "  print('Test set', test_dataset.shape, test_labels.shape)"
   ]
  },
  {
   "cell_type": "markdown",
   "metadata": {},
   "source": [
    "Reformat into a shape that's more adapted to the models we're going to train:\n",
    "- data as a flat matrix,\n",
    "- labels as float 1-hot encodings."
   ]
  },
  {
   "cell_type": "code",
   "execution_count": 4,
   "metadata": {
    "collapsed": false
   },
   "outputs": [
    {
     "name": "stdout",
     "output_type": "stream",
     "text": [
      "Training set (200000, 784) (200000, 10)\n",
      "Validation set (10000, 784) (10000, 10)\n",
      "Test set (10000, 784) (10000, 10)\n"
     ]
    }
   ],
   "source": [
    "image_size = 28\n",
    "num_labels = 10\n",
    "\n",
    "def reformat(dataset, labels):\n",
    "  dataset = dataset.reshape((-1, image_size * image_size)).astype(np.float32)\n",
    "  # Map 1 to [0.0, 1.0, 0.0 ...], 2 to [0.0, 0.0, 1.0 ...]\n",
    "  labels = (np.arange(num_labels) == labels[:,None]).astype(np.float32)\n",
    "  return dataset, labels\n",
    "train_dataset, train_labels = reformat(train_dataset, train_labels)\n",
    "valid_dataset, valid_labels = reformat(valid_dataset, valid_labels)\n",
    "test_dataset, test_labels = reformat(test_dataset, test_labels)\n",
    "print('Training set', train_dataset.shape, train_labels.shape)\n",
    "print('Validation set', valid_dataset.shape, valid_labels.shape)\n",
    "print('Test set', test_dataset.shape, test_labels.shape)"
   ]
  },
  {
   "cell_type": "code",
   "execution_count": 5,
   "metadata": {
    "collapsed": true
   },
   "outputs": [],
   "source": [
    "## Define a measure of Accuracy for Predictions and Labels\n",
    "def accuracy(predictions, labels):\n",
    "  return (100.0 * np.sum(np.argmax(predictions, 1) == np.argmax(labels, 1))\n",
    "          / predictions.shape[0])"
   ]
  },
  {
   "cell_type": "markdown",
   "metadata": {},
   "source": [
    "---\n",
    "Problem 1\n",
    "---------\n",
    "\n",
    "Introduce and tune L2 regularization for both logistic and neural network models. Remember that L2 amounts to adding a penalty on the norm of the weights to the loss. In TensorFlow, you can compute the L2 loss for a tensor `t` using `nn.l2_loss(t)`. The right amount of regularization should improve your validation / test accuracy.\n",
    "\n",
    "---"
   ]
  },
  {
   "cell_type": "code",
   "execution_count": 5,
   "metadata": {
    "collapsed": false
   },
   "outputs": [],
   "source": [
    "batch_size = 128\n",
    "\n",
    "sd = 1.0 / np.sqrt(batch_size)\n",
    "\n",
    "num_hidden_units1 = 1024\n",
    "num_hidden_units2 = 512\n",
    "learning_rate = 0.5\n",
    "\n",
    "graph = tf.Graph()\n",
    "with graph.as_default():\n",
    "    with tf.device('/cpu:0'):   # Forcing on CPU (as TF is complaining of GPU out of mem)\n",
    "        # Input data. For the training data, we use a placeholder that will be fed\n",
    "        # at run time with a training minibatch.\n",
    "        #X = tf.placeholder(tf.float32, shape=(batch_size, image_size*image_size)) # Features\n",
    "        #Y = tf.placeholder(tf.float32, shape=(batch_size, num_labels))   # labels\n",
    "        \n",
    "        tf_train_dataset = tf.placeholder( tf.float32, \n",
    "                                         shape=(batch_size, image_size*image_size))\n",
    "        tf_train_labels  = tf.placeholder( tf.float32, shape=(batch_size, num_labels))\n",
    "        tf_valid_dataset = tf.constant(valid_dataset)\n",
    "        tf_test_dataset  = tf.constant(test_dataset)\n",
    "        \n",
    "        beta = tf.placeholder(tf.float32)   # param for Regularization\n",
    "        keep_prob = tf.placeholder(tf.float32)   # for drop out\n",
    "        \n",
    "        # Variables\n",
    "        W1 = tf.Variable(tf.truncated_normal([image_size * image_size, num_hidden_units1], \n",
    "                                            mean=0, stddev=np.sqrt(2.0/(image_size*image_size))))\n",
    "        b1 = tf.Variable(tf.zeros([num_hidden_units1]))\n",
    "        \n",
    "        W2 = tf.Variable(tf.truncated_normal([num_hidden_units1, num_hidden_units2], \n",
    "                                            mean=0, stddev=np.sqrt(2.0/num_hidden_units1)))\n",
    "        b2 = tf.Variable(tf.zeros([num_hidden_units2]))\n",
    "        \n",
    "        # final weights\n",
    "        W  = tf.Variable(tf.truncated_normal([num_hidden_units2, num_labels], \n",
    "                                            mean=0, stddev=np.sqrt(2.0/num_hidden_units2)))\n",
    "        b  = tf.Variable(tf.zeros([num_labels]))\n",
    "        \n",
    "        def model(data):  \n",
    "            \"\"\" Assembles the model, using given dataset\n",
    "            Return h = X . W + b\n",
    "            \"\"\"\n",
    "            h1 = tf.nn.relu(tf.matmul(data,  W1) + b1)\n",
    "            h1 = tf.nn.dropout(h1, keep_prob)     # Dropout\n",
    "            h2 = tf.nn.relu(tf.matmul(h1, W2) + b2)\n",
    "            #h2 = tf.nn.dropout(h2, keep_prob)      # Dropout\n",
    "            return tf.matmul(h2, W) + b\n",
    "        \n",
    "        \n",
    "        logits = model(tf_train_dataset)    # for Training dataset\n",
    "        #y_     = tf.nn.softmax(logits)   # scaled logits, after softmax\n",
    "        \n",
    "        # Loss calc - on Training\n",
    "        loss = tf.reduce_mean(tf.nn.softmax_cross_entropy_with_logits(logits, tf_train_labels)) + \\\n",
    "                 beta * (tf.nn.l2_loss(W1) + tf.nn.l2_loss(W2) + tf.nn.l2_loss(W))\n",
    "        optimizer = tf.train.GradientDescentOptimizer(learning_rate).minimize(loss)\n",
    "        \n",
    "        # predictions\n",
    "        train_prediction = tf.nn.softmax(logits)\n",
    "        valid_prediction = tf.nn.softmax(model(tf_valid_dataset))  # eval on Validation\n",
    "        test_prediction  = tf.nn.softmax(model(tf_test_dataset))   # eval on Test data\n",
    "        "
   ]
  },
  {
   "cell_type": "code",
   "execution_count": 6,
   "metadata": {
    "collapsed": false
   },
   "outputs": [
    {
     "name": "stdout",
     "output_type": "stream",
     "text": [
      "Initialized\n",
      "minibatch loss at step 0: 3.659582\n",
      "minibatch acc : 7.0%\n",
      "validation acc: 27.0%\n",
      "minibatch loss at step 500: 1.177359\n",
      "minibatch acc : 90.6%\n",
      "validation acc: 85.1%\n",
      "minibatch loss at step 1000: 1.056028\n",
      "minibatch acc : 82.8%\n",
      "validation acc: 85.5%\n",
      "minibatch loss at step 1500: 0.673375\n",
      "minibatch acc : 89.8%\n",
      "validation acc: 86.8%\n",
      "minibatch loss at step 2000: 0.593424\n",
      "minibatch acc : 92.2%\n",
      "validation acc: 87.3%\n",
      "minibatch loss at step 2500: 0.624670\n",
      "minibatch acc : 87.5%\n",
      "validation acc: 86.9%\n",
      "minibatch loss at step 3000: 0.645932\n",
      "minibatch acc : 84.4%\n",
      "validation acc: 87.4%\n",
      "minibatch loss at step 3500: 0.656286\n",
      "minibatch acc : 86.7%\n",
      "validation acc: 87.4%\n",
      "minibatch loss at step 4000: 0.501366\n",
      "minibatch acc : 87.5%\n",
      "validation acc: 87.6%\n",
      "minibatch loss at step 4500: 0.503272\n",
      "minibatch acc : 89.1%\n",
      "validation acc: 87.1%\n",
      "minibatch loss at step 5000: 0.545159\n",
      "minibatch acc : 88.3%\n",
      "validation acc: 87.7%\n",
      "Test accuracy : 93.8%\n"
     ]
    }
   ],
   "source": [
    "num_steps = 5001\n",
    "beta_fixed = 1e-3\n",
    "keep_prob_train = 0.5\n",
    "keep_prob_test = 1.0\n",
    "\n",
    "cost_history = np.empty(shape=[1],dtype=float)\n",
    "y_true, y_pred = None, None\n",
    "\n",
    "## For limiting GPU memory usage: \n",
    "config = tf.ConfigProto()\n",
    "config.gpu_options.allow_growth=True\n",
    "\n",
    "with tf.Session(graph=graph) as session:\n",
    "    tf.initialize_all_variables().run()\n",
    "    print (\"Initialized\")\n",
    "    for step in range(num_steps):\n",
    "        # Pick an offset within the training data, which has been randomized.\n",
    "        # Note: we could use better randomization across epochs.\n",
    "        offset = (step * batch_size) % (train_labels.shape[0] - batch_size)\n",
    "        # Generate a mini batch\n",
    "        batch_data   = train_dataset[offset:(offset + batch_size), :]\n",
    "        batch_labels = train_labels [offset:(offset + batch_size), :]\n",
    "        # Make a dict telling the session where to find the minibatch\n",
    "        feed_dict = {tf_train_dataset: batch_data,\n",
    "                     tf_train_labels: batch_labels,\n",
    "                     beta: beta_fixed,    \n",
    "                     keep_prob: keep_prob_train}    \n",
    "        # run one step\n",
    "        _, step_loss, predictions = session.run([optimizer, loss, train_prediction], \n",
    "                                        feed_dict=feed_dict)\n",
    "        cost_history = np.append(cost_history, step_loss)   # save the loss\n",
    "        \n",
    "        if (step % 500 == 0):\n",
    "            print (\"minibatch loss at step %d: %f\" % (step, step_loss))\n",
    "            print (\"minibatch acc : %.1f%%\" % accuracy(predictions, batch_labels))\n",
    "            print (\"validation acc: %.1f%%\" % accuracy(valid_prediction.eval(feed_dict={\n",
    "                                                                 keep_prob: keep_prob_test}), \n",
    "                                                valid_labels))\n",
    "    \n",
    "    print (\"Test accuracy : %.1f%%\" % accuracy(test_prediction.eval(feed_dict={\n",
    "                                                                   keep_prob: keep_prob_test}),\n",
    "                                                test_labels))\n",
    "    "
   ]
  },
  {
   "cell_type": "code",
   "execution_count": 5,
   "metadata": {
    "collapsed": true
   },
   "outputs": [],
   "source": [
    "#Trying with Learning Rate Schedule"
   ]
  },
  {
   "cell_type": "code",
   "execution_count": 6,
   "metadata": {
    "collapsed": true
   },
   "outputs": [],
   "source": [
    "batch_size = 128\n",
    "\n",
    "sd = 1.0 / np.sqrt(batch_size)\n",
    "\n",
    "num_hidden_units1 = 1024\n",
    "num_hidden_units2 = 512\n",
    "learning_rate = 0.5\n",
    "\n",
    "graph = tf.Graph()\n",
    "with graph.as_default():\n",
    "    with tf.device('/cpu:0'):   # Forcing on CPU (as TF is complaining of GPU out of mem)\n",
    "        # Input data. For the training data, we use a placeholder that will be fed\n",
    "        # at run time with a training minibatch.\n",
    "        #X = tf.placeholder(tf.float32, shape=(batch_size, image_size*image_size)) # Features\n",
    "        #Y = tf.placeholder(tf.float32, shape=(batch_size, num_labels))   # labels\n",
    "        \n",
    "        tf_train_dataset = tf.placeholder( tf.float32, \n",
    "                                         shape=(batch_size, image_size*image_size))\n",
    "        tf_train_labels  = tf.placeholder( tf.float32, shape=(batch_size, num_labels))\n",
    "        tf_valid_dataset = tf.constant(valid_dataset)\n",
    "        tf_test_dataset  = tf.constant(test_dataset)\n",
    "        \n",
    "        beta = tf.placeholder(tf.float32)   # param for Regularization\n",
    "        keep_prob = tf.placeholder(tf.float32)   # for drop out\n",
    "        global_step = tf.Variable(0)\n",
    "        \n",
    "        \n",
    "        # Variables\n",
    "        W1 = tf.Variable(tf.truncated_normal([image_size * image_size, num_hidden_units1], \n",
    "                                            mean=0, stddev=np.sqrt(2.0/(image_size*image_size))))\n",
    "        b1 = tf.Variable(tf.zeros([num_hidden_units1]))\n",
    "        \n",
    "        W2 = tf.Variable(tf.truncated_normal([num_hidden_units1, num_hidden_units2], \n",
    "                                            mean=0, stddev=np.sqrt(2.0/num_hidden_units1)))\n",
    "        b2 = tf.Variable(tf.zeros([num_hidden_units2]))\n",
    "        \n",
    "        # final weights\n",
    "        W  = tf.Variable(tf.truncated_normal([num_hidden_units2, num_labels], \n",
    "                                            mean=0, stddev=np.sqrt(2.0/num_hidden_units2)))\n",
    "        b  = tf.Variable(tf.zeros([num_labels]))\n",
    "        \n",
    "        def model(data):  \n",
    "            \"\"\" Assembles the model, using given dataset\n",
    "            Return h = X . W + b\n",
    "            \"\"\"\n",
    "            h1 = tf.nn.relu(tf.matmul(data,  W1) + b1)\n",
    "            h1 = tf.nn.dropout(h1, keep_prob)     # Dropout\n",
    "            h2 = tf.nn.relu(tf.matmul(h1, W2) + b2)\n",
    "            #h2 = tf.nn.dropout(h2, keep_prob)      # Dropout\n",
    "            return tf.matmul(h2, W) + b\n",
    "        \n",
    "        \n",
    "        logits = model(tf_train_dataset)    # for Training dataset\n",
    "        #y_     = tf.nn.softmax(logits)   # scaled logits, after softmax\n",
    "        \n",
    "        # Loss calc - on Training\n",
    "        loss = tf.reduce_mean(tf.nn.softmax_cross_entropy_with_logits(logits, tf_train_labels)) + \\\n",
    "                 beta * (tf.nn.l2_loss(W1) + tf.nn.l2_loss(W2) + tf.nn.l2_loss(W))\n",
    "            \n",
    "        learning_rate = tf.train.exponential_decay(0.5, global_step, 2000, 0.65, staircase=True)\n",
    "        optimizer = tf.train.GradientDescentOptimizer(learning_rate).minimize(loss, global_step=global_step)\n",
    "        \n",
    "        # predictions\n",
    "        train_prediction = tf.nn.softmax(logits)\n",
    "        valid_prediction = tf.nn.softmax(model(tf_valid_dataset))  # eval on Validation\n",
    "        test_prediction  = tf.nn.softmax(model(tf_test_dataset))   # eval on Test data\n",
    "        "
   ]
  },
  {
   "cell_type": "code",
   "execution_count": 7,
   "metadata": {
    "collapsed": false
   },
   "outputs": [
    {
     "name": "stdout",
     "output_type": "stream",
     "text": [
      "Initialized\n",
      "minibatch loss at step 0: 3.599866\n",
      "minibatch acc : 9.4%\n",
      "validation acc: 23.2%\n",
      "minibatch loss at step 500: 1.179434\n",
      "minibatch acc : 89.8%\n",
      "validation acc: 84.9%\n",
      "minibatch loss at step 1000: 1.066988\n",
      "minibatch acc : 82.8%\n",
      "validation acc: 86.0%\n",
      "minibatch loss at step 1500: 0.689836\n",
      "minibatch acc : 90.6%\n",
      "validation acc: 86.7%\n",
      "minibatch loss at step 2000: 0.595683\n",
      "minibatch acc : 92.2%\n",
      "validation acc: 87.3%\n",
      "minibatch loss at step 2500: 0.583258\n",
      "minibatch acc : 88.3%\n",
      "validation acc: 87.5%\n",
      "minibatch loss at step 3000: 0.617804\n",
      "minibatch acc : 85.9%\n",
      "validation acc: 87.6%\n",
      "minibatch loss at step 3500: 0.656064\n",
      "minibatch acc : 82.8%\n",
      "validation acc: 88.0%\n",
      "minibatch loss at step 4000: 0.513816\n",
      "minibatch acc : 91.4%\n",
      "validation acc: 88.2%\n",
      "minibatch loss at step 4500: 0.486565\n",
      "minibatch acc : 87.5%\n",
      "validation acc: 88.1%\n",
      "minibatch loss at step 5000: 0.524385\n",
      "minibatch acc : 90.6%\n",
      "validation acc: 88.8%\n",
      "minibatch loss at step 5500: 0.558334\n",
      "minibatch acc : 87.5%\n",
      "validation acc: 88.6%\n",
      "minibatch loss at step 6000: 0.598413\n",
      "minibatch acc : 85.2%\n",
      "validation acc: 88.4%\n",
      "minibatch loss at step 6500: 0.444616\n",
      "minibatch acc : 91.4%\n",
      "validation acc: 89.0%\n",
      "minibatch loss at step 7000: 0.542811\n",
      "minibatch acc : 86.7%\n",
      "validation acc: 89.0%\n",
      "minibatch loss at step 7500: 0.585276\n",
      "minibatch acc : 85.9%\n",
      "validation acc: 89.1%\n",
      "minibatch loss at step 8000: 0.650028\n",
      "minibatch acc : 82.8%\n",
      "validation acc: 89.0%\n",
      "Test accuracy : 94.8%\n"
     ]
    }
   ],
   "source": [
    "num_steps = 8001\n",
    "beta_fixed = 1e-3\n",
    "keep_prob_train = 0.5\n",
    "keep_prob_test = 1.0\n",
    "\n",
    "cost_history = np.empty(shape=[1],dtype=float)\n",
    "y_true, y_pred = None, None\n",
    "\n",
    "## For limiting GPU memory usage: \n",
    "config = tf.ConfigProto()\n",
    "config.gpu_options.allow_growth=True\n",
    "\n",
    "with tf.Session(graph=graph) as session:\n",
    "    tf.initialize_all_variables().run()\n",
    "    print (\"Initialized\")\n",
    "    for step in range(num_steps):\n",
    "        # Pick an offset within the training data, which has been randomized.\n",
    "        # Note: we could use better randomization across epochs.\n",
    "        offset = (step * batch_size) % (train_labels.shape[0] - batch_size)\n",
    "        # Generate a mini batch\n",
    "        batch_data   = train_dataset[offset:(offset + batch_size), :]\n",
    "        batch_labels = train_labels [offset:(offset + batch_size), :]\n",
    "        # Make a dict telling the session where to find the minibatch\n",
    "        feed_dict = {tf_train_dataset: batch_data,\n",
    "                     tf_train_labels: batch_labels,\n",
    "                     beta: beta_fixed,    \n",
    "                     keep_prob: keep_prob_train}    \n",
    "        # run one step\n",
    "        _, step_loss, predictions = session.run([optimizer, loss, train_prediction], \n",
    "                                        feed_dict=feed_dict)\n",
    "        cost_history = np.append(cost_history, step_loss)   # save the loss\n",
    "        \n",
    "        if (step % 500 == 0):\n",
    "            print (\"minibatch loss at step %d: %f\" % (step, step_loss))\n",
    "            print (\"minibatch acc : %.1f%%\" % accuracy(predictions, batch_labels))\n",
    "            print (\"validation acc: %.1f%%\" % accuracy(valid_prediction.eval(feed_dict={\n",
    "                                                                 keep_prob: keep_prob_test}), \n",
    "                                                valid_labels))\n",
    "    \n",
    "    print (\"Test accuracy : %.1f%%\" % accuracy(test_prediction.eval(feed_dict={\n",
    "                                                                   keep_prob: keep_prob_test}),\n",
    "                                                test_labels))\n",
    "    "
   ]
  },
  {
   "cell_type": "code",
   "execution_count": 8,
   "metadata": {
    "collapsed": false
   },
   "outputs": [
    {
     "data": {
      "image/png": "[encoded data removed]",
      "text/plain": [
       "<matplotlib.figure.Figure at 0x12e7e45c0>"
      ]
     },
     "metadata": {},
     "output_type": "display_data"
    }
   ],
   "source": [
    "%matplotlib inline \n",
    "\n",
    "fig = plt.figure(figsize=(10,8))\n",
    "plt.plot(cost_history)\n",
    "plt.ylabel(\"Cost\")\n",
    "plt.xlabel(\"Iterations\")\n",
    "plt.axis([0,num_steps,0,np.max(cost_history)])\n",
    "plt.show()\n"
   ]
  },
  {
   "cell_type": "code",
   "execution_count": null,
   "metadata": {
    "collapsed": true
   },
   "outputs": [],
   "source": []
  }
 ],
 "metadata": {
  "kernelspec": {
   "display_name": "Python 3",
   "language": "python",
   "name": "python3"
  },
  "language_info": {
   "codemirror_mode": {
    "name": "ipython",
    "version": 3
   },
   "file_extension": ".py",
   "mimetype": "text/x-python",
   "name": "python",
   "nbconvert_exporter": "python",
   "pygments_lexer": "ipython3",
   "version": "3.5.2"
  }
 },
 "nbformat": 4,
 "nbformat_minor": 0
}
